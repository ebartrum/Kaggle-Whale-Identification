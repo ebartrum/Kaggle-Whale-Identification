{
 "cells": [
  {
   "cell_type": "code",
   "execution_count": 1,
   "metadata": {},
   "outputs": [
    {
     "name": "stderr",
     "output_type": "stream",
     "text": [
      "Using TensorFlow backend.\n"
     ]
    }
   ],
   "source": [
    "import pandas as pd\n",
    "import numpy as np\n",
    "import matplotlib.pyplot as plt\n",
    "from data_augmentation import random_transform\n",
    "\n",
    "\n",
    "from keras.models import Sequential, Model\n",
    "from keras.optimizers import Adam, SGD\n",
    "from keras import applications\n",
    "from keras.layers import Dense, Conv2D, MaxPooling2D, Reshape, Flatten, Input, merge, subtract, Lambda, Dropout\n",
    "from keras import backend as K"
   ]
  },
  {
   "cell_type": "code",
   "execution_count": 2,
   "metadata": {},
   "outputs": [],
   "source": [
    "resize_shape = (128, 128, 3)"
   ]
  },
  {
   "cell_type": "code",
   "execution_count": 3,
   "metadata": {},
   "outputs": [],
   "source": [
    "data = pd.read_csv(\"data/train.csv\")\n",
    "\n",
    "# Take this out later\n",
    "# data = data.head(500)"
   ]
  },
  {
   "cell_type": "markdown",
   "metadata": {},
   "source": [
    "# Shuffle data"
   ]
  },
  {
   "cell_type": "code",
   "execution_count": 4,
   "metadata": {},
   "outputs": [],
   "source": [
    "from sklearn.utils import shuffle\n",
    "data = shuffle(data)"
   ]
  },
  {
   "cell_type": "code",
   "execution_count": 5,
   "metadata": {},
   "outputs": [],
   "source": [
    "#For now, we remove new_whale\n",
    "# data = data[data['Id'] != 'new_whale'].reset_index(drop=True)"
   ]
  },
  {
   "cell_type": "code",
   "execution_count": 6,
   "metadata": {},
   "outputs": [
    {
     "data": {
      "text/plain": [
       "9850"
      ]
     },
     "execution_count": 6,
     "metadata": {},
     "output_type": "execute_result"
    }
   ],
   "source": [
    "len(data)"
   ]
  },
  {
   "cell_type": "markdown",
   "metadata": {},
   "source": [
    "# Look at example "
   ]
  },
  {
   "cell_type": "code",
   "execution_count": 7,
   "metadata": {},
   "outputs": [],
   "source": [
    "# data.head(10)"
   ]
  },
  {
   "cell_type": "code",
   "execution_count": 8,
   "metadata": {},
   "outputs": [],
   "source": [
    "from PIL import Image\n",
    "image = Image.open('data/train/00022e1a.jpg')"
   ]
  },
  {
   "cell_type": "code",
   "execution_count": 9,
   "metadata": {},
   "outputs": [
    {
     "data": {
      "text/plain": [
       "(500, 699)"
      ]
     },
     "execution_count": 9,
     "metadata": {},
     "output_type": "execute_result"
    }
   ],
   "source": [
    "np.array(image).shape"
   ]
  },
  {
   "cell_type": "code",
   "execution_count": 10,
   "metadata": {},
   "outputs": [],
   "source": [
    "# plt.imshow(image)\n",
    "# plt.show()"
   ]
  },
  {
   "cell_type": "code",
   "execution_count": 11,
   "metadata": {},
   "outputs": [
    {
     "data": {
      "text/plain": [
       "(500, 699)"
      ]
     },
     "execution_count": 11,
     "metadata": {},
     "output_type": "execute_result"
    }
   ],
   "source": [
    "np.array(image).shape"
   ]
  },
  {
   "cell_type": "code",
   "execution_count": 12,
   "metadata": {},
   "outputs": [],
   "source": [
    "new_image = np.stack([image]*3,axis=2)"
   ]
  },
  {
   "cell_type": "code",
   "execution_count": 13,
   "metadata": {},
   "outputs": [
    {
     "data": {
      "text/plain": [
       "(500, 699, 3)"
      ]
     },
     "execution_count": 13,
     "metadata": {},
     "output_type": "execute_result"
    }
   ],
   "source": [
    "np.array(new_image).shape"
   ]
  },
  {
   "cell_type": "code",
   "execution_count": 14,
   "metadata": {},
   "outputs": [],
   "source": [
    "# gray = np.mean(image, -1)"
   ]
  },
  {
   "cell_type": "code",
   "execution_count": 15,
   "metadata": {},
   "outputs": [],
   "source": [
    "# gray.shape"
   ]
  },
  {
   "cell_type": "code",
   "execution_count": 16,
   "metadata": {},
   "outputs": [],
   "source": [
    "# plt.imshow(random_transform(gray),cmap='gray')\n",
    "# plt.show()"
   ]
  },
  {
   "cell_type": "markdown",
   "metadata": {
    "collapsed": true
   },
   "source": [
    "# All images (if small) can be held in memory."
   ]
  },
  {
   "cell_type": "code",
   "execution_count": 17,
   "metadata": {},
   "outputs": [],
   "source": [
    "file_list = data['Image']\n",
    "id_list = data['Id']"
   ]
  },
  {
   "cell_type": "code",
   "execution_count": 18,
   "metadata": {},
   "outputs": [],
   "source": [
    "def get_image(file, shape=(resize_shape[0],resize_shape[1])):\n",
    "    image = Image.open('data/train/' + file)\n",
    "    image = image.resize(shape)\n",
    "    image = np.array(image)\n",
    "    if len(image.shape) == 2:\n",
    "        image = np.stack([image]*3,axis=2) \n",
    "    return image"
   ]
  },
  {
   "cell_type": "code",
   "execution_count": 19,
   "metadata": {},
   "outputs": [],
   "source": [
    "image_list = [get_image(f) for f in file_list]"
   ]
  },
  {
   "cell_type": "code",
   "execution_count": 20,
   "metadata": {},
   "outputs": [],
   "source": [
    "length_list = [len(image.shape) for image in image_list]"
   ]
  },
  {
   "cell_type": "code",
   "execution_count": 21,
   "metadata": {},
   "outputs": [
    {
     "data": {
      "text/plain": [
       "'00022e1a.jpg'"
      ]
     },
     "execution_count": 21,
     "metadata": {},
     "output_type": "execute_result"
    }
   ],
   "source": [
    "file_list[0]"
   ]
  },
  {
   "cell_type": "code",
   "execution_count": 22,
   "metadata": {},
   "outputs": [],
   "source": [
    "data['image_array'] = image_list"
   ]
  },
  {
   "cell_type": "code",
   "execution_count": 23,
   "metadata": {},
   "outputs": [
    {
     "data": {
      "text/html": [
       "<div>\n",
       "<style scoped>\n",
       "    .dataframe tbody tr th:only-of-type {\n",
       "        vertical-align: middle;\n",
       "    }\n",
       "\n",
       "    .dataframe tbody tr th {\n",
       "        vertical-align: top;\n",
       "    }\n",
       "\n",
       "    .dataframe thead th {\n",
       "        text-align: right;\n",
       "    }\n",
       "</style>\n",
       "<table border=\"1\" class=\"dataframe\">\n",
       "  <thead>\n",
       "    <tr style=\"text-align: right;\">\n",
       "      <th></th>\n",
       "      <th>Image</th>\n",
       "      <th>Id</th>\n",
       "      <th>image_array</th>\n",
       "    </tr>\n",
       "  </thead>\n",
       "  <tbody>\n",
       "    <tr>\n",
       "      <th>276</th>\n",
       "      <td>069e0d01.jpg</td>\n",
       "      <td>w_6398e9d</td>\n",
       "      <td>[[[226, 226, 226], [233, 233, 233], [228, 228,...</td>\n",
       "    </tr>\n",
       "    <tr>\n",
       "      <th>447</th>\n",
       "      <td>0b02fbcd.jpg</td>\n",
       "      <td>w_0e96943</td>\n",
       "      <td>[[[140, 140, 140], [140, 140, 140], [144, 144,...</td>\n",
       "    </tr>\n",
       "    <tr>\n",
       "      <th>1667</th>\n",
       "      <td>2c367983.jpg</td>\n",
       "      <td>w_b7d5069</td>\n",
       "      <td>[[[154, 165, 195], [133, 144, 174], [118, 121,...</td>\n",
       "    </tr>\n",
       "    <tr>\n",
       "      <th>9297</th>\n",
       "      <td>f255197f.jpg</td>\n",
       "      <td>w_d37b55b</td>\n",
       "      <td>[[[252, 252, 252], [252, 252, 252], [252, 252,...</td>\n",
       "    </tr>\n",
       "  </tbody>\n",
       "</table>\n",
       "</div>"
      ],
      "text/plain": [
       "             Image         Id  \\\n",
       "276   069e0d01.jpg  w_6398e9d   \n",
       "447   0b02fbcd.jpg  w_0e96943   \n",
       "1667  2c367983.jpg  w_b7d5069   \n",
       "9297  f255197f.jpg  w_d37b55b   \n",
       "\n",
       "                                            image_array  \n",
       "276   [[[226, 226, 226], [233, 233, 233], [228, 228,...  \n",
       "447   [[[140, 140, 140], [140, 140, 140], [144, 144,...  \n",
       "1667  [[[154, 165, 195], [133, 144, 174], [118, 121,...  \n",
       "9297  [[[252, 252, 252], [252, 252, 252], [252, 252,...  "
      ]
     },
     "execution_count": 23,
     "metadata": {},
     "output_type": "execute_result"
    }
   ],
   "source": [
    "data.head(4)"
   ]
  },
  {
   "cell_type": "markdown",
   "metadata": {},
   "source": [
    "# Create Test and Train"
   ]
  },
  {
   "cell_type": "code",
   "execution_count": 24,
   "metadata": {},
   "outputs": [],
   "source": [
    "\n",
    "\n",
    "test_proportion = 0.8\n",
    "cutoff_index = int(len(data) * test_proportion)\n",
    "\n",
    "training_data = data.iloc[:cutoff_index].reset_index(drop=True)\n",
    "test_data = data.iloc[cutoff_index:].reset_index(drop=True)"
   ]
  },
  {
   "cell_type": "code",
   "execution_count": 25,
   "metadata": {},
   "outputs": [],
   "source": [
    "from collections import Counter\n",
    "\n",
    "training_counts = Counter(training_data['Id'])\n",
    "training_data['Id_count'] = training_data.apply(lambda x: training_counts.get(x[\"Id\"]), axis=1)\n",
    "\n",
    "test_counts = Counter(test_data['Id'])\n",
    "test_data['Id_count'] = test_data.apply(lambda x: test_counts.get(x[\"Id\"]), axis=1)"
   ]
  },
  {
   "cell_type": "code",
   "execution_count": 223,
   "metadata": {},
   "outputs": [
    {
     "data": {
      "text/plain": [
       "[('new_whale', 652), ('w_1287fbc', 27), ('w_98baff9', 22), ('w_1eafe46', 22)]"
      ]
     },
     "execution_count": 223,
     "metadata": {},
     "output_type": "execute_result"
    }
   ],
   "source": []
  },
  {
   "cell_type": "code",
   "execution_count": 26,
   "metadata": {},
   "outputs": [],
   "source": [
    "from random import randint"
   ]
  },
  {
   "cell_type": "markdown",
   "metadata": {},
   "source": [
    "# Create generator"
   ]
  },
  {
   "cell_type": "code",
   "execution_count": 27,
   "metadata": {},
   "outputs": [],
   "source": [
    "def get_triple(len_data, data_images, data_ids, anchor_condition, augment=True):\n",
    "    \n",
    "    anchor_index = np.random.choice(anchor_condition.index[anchor_condition])    \n",
    "    anchor_image = data_images[anchor_index]\n",
    "    anchor_id = data_ids[anchor_index]   \n",
    "\n",
    "    same_id = anchor_id    \n",
    "    same_id_indices = (data_ids == anchor_id)\n",
    "    same_id_index = np.random.choice(same_id_indices.index[same_id_indices])\n",
    "    same_image = data_images[same_id_index]\n",
    "    \n",
    "    different_id = anchor_id\n",
    "    \n",
    "    while (anchor_id == different_id):\n",
    "        different_index = randint(0,len_data-1)\n",
    "        different_id = data_ids[different_index]\n",
    "    \n",
    "    different_image = data_images[different_index]\n",
    "    \n",
    "    if augment:\n",
    "        anchor_image = random_transform(anchor_image)\n",
    "        same_image = random_transform(same_image)\n",
    "        different_image = random_transform(different_image)\n",
    "    return anchor_image, same_image, different_image"
   ]
  },
  {
   "cell_type": "code",
   "execution_count": 28,
   "metadata": {},
   "outputs": [],
   "source": [
    "def triple_generator(batch_size, data, resize_shape, augment=True):\n",
    "    \n",
    "    len_data = len(data)\n",
    "    data_images = np.stack(data['image_array'])\n",
    "    data_ids = data['Id']\n",
    "    \n",
    "    anchor_condition = (data['Id_count'] > 1) & (data_ids != 'new_whale')\n",
    "        \n",
    "    \n",
    "    while True:\n",
    "        anchor_batch = np.zeros((batch_size, resize_shape[0],resize_shape[1],resize_shape[2]))\n",
    "        same_image_batch = np.zeros((batch_size, resize_shape[0],resize_shape[1],resize_shape[2]))\n",
    "        different_image_batch = np.zeros((batch_size, resize_shape[0],resize_shape[1],resize_shape[2]))\n",
    "        for i in range(batch_size):\n",
    "#             print(\"assigning next images...\")\n",
    "            anchor_batch[i,:,:,:], same_image_batch[i,:,:,:], different_image_batch[i,:,:,:] = get_triple(\n",
    "                    len_data, data_images, data_ids, anchor_condition, augment)\n",
    "\n",
    "        batches = [anchor_batch, same_image_batch, different_image_batch]\n",
    "        yield batches, np.ones(batch_size)"
   ]
  },
  {
   "cell_type": "code",
   "execution_count": 29,
   "metadata": {},
   "outputs": [],
   "source": [
    "# training_data_generator = triple_generator(16, training_data, resize_shape)"
   ]
  },
  {
   "cell_type": "code",
   "execution_count": 30,
   "metadata": {},
   "outputs": [],
   "source": [
    "# len_data = len(training_data)\n",
    "# data_images = np.stack(training_data['image_array'])\n",
    "# data_ids = training_data['Id']\n",
    "# anchor_condition = (training_data['Id_count'] > 1) & (data_ids != 'new_whale')"
   ]
  },
  {
   "cell_type": "code",
   "execution_count": 31,
   "metadata": {},
   "outputs": [],
   "source": [
    "# get_triple(len_data, data_images, data_ids, anchor_condition)"
   ]
  },
  {
   "cell_type": "code",
   "execution_count": 32,
   "metadata": {},
   "outputs": [],
   "source": [
    "# next(training_data_generator)"
   ]
  },
  {
   "cell_type": "markdown",
   "metadata": {
    "collapsed": true
   },
   "source": [
    "# Create the network"
   ]
  },
  {
   "cell_type": "code",
   "execution_count": 33,
   "metadata": {},
   "outputs": [],
   "source": [
    "input_shape = resize_shape\n",
    "\n",
    "anchor_input = Input(input_shape)\n",
    "same_category_input = Input(input_shape)\n",
    "different_category_input = Input(input_shape)"
   ]
  },
  {
   "cell_type": "code",
   "execution_count": 41,
   "metadata": {},
   "outputs": [
    {
     "name": "stderr",
     "output_type": "stream",
     "text": [
      "/usr/local/lib/python3.5/dist-packages/ipykernel_launcher.py:59: UserWarning: The `merge` function is deprecated and will be removed after 08/2017. Use instead layers from `keras.layers.merge`, e.g. `add`, `concatenate`, etc.\n",
      "/usr/local/lib/python3.5/dist-packages/keras/legacy/layers.py:464: UserWarning: The `Merge` layer is deprecated and will be removed after 08/2017. Use instead layers from `keras.layers.merge`, e.g. `add`, `concatenate`, etc.\n",
      "  name=name)\n",
      "/usr/local/lib/python3.5/dist-packages/ipykernel_launcher.py:61: UserWarning: Update your `Model` call to the Keras 2 API: `Model(inputs=[<tf.Tenso..., outputs=Tensor(\"lo...)`\n"
     ]
    }
   ],
   "source": [
    "def bpr_triplet_loss(X):    \n",
    "    margin = 3\n",
    "    \n",
    "    anchor_embedding, same_embedding, different_embedding = X\n",
    "    \n",
    "    positive_distance = K.square(anchor_embedding - same_embedding)\n",
    "    negative_distance = K.square(anchor_embedding - different_embedding)\n",
    "    \n",
    "    positive_distance = K.mean(positive_distance, axis=-1, keepdims=True)\n",
    "    negative_distance = K.mean(negative_distance, axis=-1, keepdims=True)\n",
    "    \n",
    "    loss = K.maximum(0.0, margin + positive_distance - negative_distance)\n",
    "   \n",
    "    return K.mean(loss)\n",
    "\n",
    "def triplet_loss(inputs, dist='sqeuclidean', margin='maxplus', alpha=0.1):\n",
    "    anchor, positive, negative = inputs\n",
    "    positive_distance = K.square(anchor - positive)\n",
    "    negative_distance = K.square(anchor - negative)\n",
    "    if dist == 'euclidean':\n",
    "        positive_distance = K.sqrt(K.sum(positive_distance, axis=-1, keepdims=True))\n",
    "        negative_distance = K.sqrt(K.sum(negative_distance, axis=-1, keepdims=True))\n",
    "    elif dist == 'sqeuclidean':\n",
    "        positive_distance = K.mean(positive_distance, axis=-1, keepdims=True)\n",
    "        negative_distance = K.mean(negative_distance, axis=-1, keepdims=True)\n",
    "    loss = positive_distance - negative_distance\n",
    "    if margin == 'maxplus':\n",
    "        loss = K.maximum(0.0, alpha + loss)\n",
    "    elif margin == 'softplus':\n",
    "        loss = K.log(alpha + K.exp(loss))\n",
    "    return K.mean(loss)    \n",
    "    \n",
    "convnet = Sequential()\n",
    "convnet.add(Conv2D(filters=8, input_shape=(\n",
    "    resize_shape[0],resize_shape[1],resize_shape[2],), kernel_size=5, activation='relu',name='conv_1'))\n",
    "convnet.add(MaxPooling2D(pool_size=2,name='pool_1'))\n",
    "convnet.add(Conv2D(filters=12, kernel_size=3, activation='relu',name='conv_2'))\n",
    "convnet.add(MaxPooling2D(pool_size=2,name='pool_2'))\n",
    "convnet.add(Conv2D(filters=16, kernel_size=3, activation='relu',name='conv_3'))\n",
    "convnet.add(MaxPooling2D(pool_size=2,name='pool_3'))\n",
    "convnet.add(Conv2D(filters=20, kernel_size=3, activation='relu',name='conv_4'))\n",
    "convnet.add(Conv2D(filters=32, kernel_size=3, activation='relu',name='conv_5'))\n",
    "convnet.add(MaxPooling2D(pool_size=2,name='pool_4'))\n",
    "convnet.add(Flatten())\n",
    "convnet.add(Dense(units=128, activation='relu',name='dense_1'))\n",
    "convnet.add(Dense(units=128, activation='relu',name='dense_2'))\n",
    "convnet.add(Dense(units=64, activation='relu',name='dense_3'))\n",
    "\n",
    "\n",
    "\n",
    "anchor = convnet(anchor_input)\n",
    "same = convnet(same_category_input)\n",
    "different = convnet(different_category_input)\n",
    "\n",
    "loss = merge(\n",
    "        [anchor, same, different],\n",
    "        mode=bpr_triplet_loss,\n",
    "        name='loss',\n",
    "        output_shape=(1, ))\n",
    "    \n",
    "siamese_net = Model(input=[anchor_input,same_category_input, different_category_input],output=loss)"
   ]
  },
  {
   "cell_type": "code",
   "execution_count": 42,
   "metadata": {},
   "outputs": [],
   "source": [
    "def identity_loss(y_true, y_pred):\n",
    "    return K.mean(y_pred - 0 * y_true)"
   ]
  },
  {
   "cell_type": "code",
   "execution_count": 43,
   "metadata": {},
   "outputs": [],
   "source": [
    "# LEARNING_RATE = 0.1\n",
    "# siamese_net.compile(loss=identity_loss,optimizer=SGD(LEARNING_RATE))\n",
    "siamese_net.compile(loss=identity_loss,optimizer=Adam())"
   ]
  },
  {
   "cell_type": "markdown",
   "metadata": {},
   "source": [
    "# Model summary"
   ]
  },
  {
   "cell_type": "code",
   "execution_count": 293,
   "metadata": {},
   "outputs": [
    {
     "name": "stdout",
     "output_type": "stream",
     "text": [
      "_________________________________________________________________\n",
      "Layer (type)                 Output Shape              Param #   \n",
      "=================================================================\n",
      "conv_1 (Conv2D)              (None, 124, 124, 8)       608       \n",
      "_________________________________________________________________\n",
      "pool_1 (MaxPooling2D)        (None, 62, 62, 8)         0         \n",
      "_________________________________________________________________\n",
      "conv_2 (Conv2D)              (None, 60, 60, 12)        876       \n",
      "_________________________________________________________________\n",
      "pool_2 (MaxPooling2D)        (None, 30, 30, 12)        0         \n",
      "_________________________________________________________________\n",
      "conv_3 (Conv2D)              (None, 28, 28, 16)        1744      \n",
      "_________________________________________________________________\n",
      "pool_3 (MaxPooling2D)        (None, 14, 14, 16)        0         \n",
      "_________________________________________________________________\n",
      "conv_4 (Conv2D)              (None, 12, 12, 20)        2900      \n",
      "_________________________________________________________________\n",
      "conv_5 (Conv2D)              (None, 10, 10, 32)        5792      \n",
      "_________________________________________________________________\n",
      "pool_4 (MaxPooling2D)        (None, 5, 5, 32)          0         \n",
      "_________________________________________________________________\n",
      "flatten_2 (Flatten)          (None, 800)               0         \n",
      "_________________________________________________________________\n",
      "dense_1 (Dense)              (None, 128)               102528    \n",
      "_________________________________________________________________\n",
      "dense_2 (Dense)              (None, 128)               16512     \n",
      "_________________________________________________________________\n",
      "dense_3 (Dense)              (None, 64)                8256      \n",
      "=================================================================\n",
      "Total params: 139,216\n",
      "Trainable params: 139,216\n",
      "Non-trainable params: 0\n",
      "_________________________________________________________________\n"
     ]
    }
   ],
   "source": [
    "convnet.summary()"
   ]
  },
  {
   "cell_type": "markdown",
   "metadata": {},
   "source": [
    "# Run the network"
   ]
  },
  {
   "cell_type": "code",
   "execution_count": 44,
   "metadata": {},
   "outputs": [],
   "source": [
    "from keras.optimizers import Adam, SGD"
   ]
  },
  {
   "cell_type": "code",
   "execution_count": 45,
   "metadata": {},
   "outputs": [],
   "source": [
    "BATCH_SIZE = 16\n",
    "training_data_generator = triple_generator(BATCH_SIZE, training_data, resize_shape, augment=True)"
   ]
  },
  {
   "cell_type": "code",
   "execution_count": 46,
   "metadata": {},
   "outputs": [],
   "source": [
    "# history = siamese_net.fit_generator(training_data_generator,\n",
    "#                                     verbose=1, \n",
    "#                                     epochs=100, \n",
    "#                                     steps_per_epoch=100,\n",
    "#                                     workers=8,\n",
    "#                                     use_multiprocessing=True)"
   ]
  },
  {
   "cell_type": "markdown",
   "metadata": {},
   "source": [
    "# Loss function "
   ]
  },
  {
   "cell_type": "code",
   "execution_count": 47,
   "metadata": {},
   "outputs": [
    {
     "ename": "NameError",
     "evalue": "name 'history' is not defined",
     "output_type": "error",
     "traceback": [
      "\u001b[0;31m---------------------------------------------------------------------------\u001b[0m",
      "\u001b[0;31mNameError\u001b[0m                                 Traceback (most recent call last)",
      "\u001b[0;32m<ipython-input-47-8332293a0be4>\u001b[0m in \u001b[0;36m<module>\u001b[0;34m()\u001b[0m\n\u001b[0;32m----> 1\u001b[0;31m \u001b[0mplt\u001b[0m\u001b[0;34m.\u001b[0m\u001b[0mplot\u001b[0m\u001b[0;34m(\u001b[0m\u001b[0mhistory\u001b[0m\u001b[0;34m.\u001b[0m\u001b[0mhistory\u001b[0m\u001b[0;34m[\u001b[0m\u001b[0;34m'loss'\u001b[0m\u001b[0;34m]\u001b[0m\u001b[0;34m)\u001b[0m\u001b[0;34m\u001b[0m\u001b[0m\n\u001b[0m\u001b[1;32m      2\u001b[0m \u001b[0mplt\u001b[0m\u001b[0;34m.\u001b[0m\u001b[0mtitle\u001b[0m\u001b[0;34m(\u001b[0m\u001b[0;34m\"Loss function\"\u001b[0m\u001b[0;34m)\u001b[0m\u001b[0;34m\u001b[0m\u001b[0m\n\u001b[1;32m      3\u001b[0m \u001b[0mplt\u001b[0m\u001b[0;34m.\u001b[0m\u001b[0mxlabel\u001b[0m\u001b[0;34m(\u001b[0m\u001b[0;34m\"epochs\"\u001b[0m\u001b[0;34m)\u001b[0m\u001b[0;34m\u001b[0m\u001b[0m\n\u001b[1;32m      4\u001b[0m \u001b[0mplt\u001b[0m\u001b[0;34m.\u001b[0m\u001b[0mshow\u001b[0m\u001b[0;34m(\u001b[0m\u001b[0;34m)\u001b[0m\u001b[0;34m\u001b[0m\u001b[0m\n",
      "\u001b[0;31mNameError\u001b[0m: name 'history' is not defined"
     ]
    }
   ],
   "source": [
    "plt.plot(history.history['loss'])\n",
    "plt.title(\"Loss function\")\n",
    "plt.xlabel(\"epochs\")\n",
    "plt.show()"
   ]
  },
  {
   "cell_type": "code",
   "execution_count": 60,
   "metadata": {},
   "outputs": [],
   "source": [
    "dates = ['2018.02.22 11:15:34',\n",
    "'2018.02.22 11:56:28',\n",
    "'2018.02.22 15:12:55',\n",
    "'2018.02.22 16:03:18',\n",
    "'2018.02.22 16:24:02',\n",
    "'2018.02.22 17:23:20',\n",
    "'2018.02.22 17:24:56',\n",
    "'2018.02.22 17:50:34',\n",
    "'2018.02.22 17:57:54',\n",
    "'2018.02.22 19:17:11']\n"
   ]
  },
  {
   "cell_type": "markdown",
   "metadata": {},
   "source": [
    "# Load weights"
   ]
  },
  {
   "cell_type": "code",
   "execution_count": 108,
   "metadata": {},
   "outputs": [],
   "source": [
    "weights_folder = 'weights/' + dates[9] + '/'\n",
    "\n",
    "convnet.load_weights(weights_folder + 'convnet_weights')\n",
    "siamese_net.load_weights(weights_folder + 'siamese_weights')"
   ]
  },
  {
   "cell_type": "markdown",
   "metadata": {},
   "source": [
    "# Evaluation "
   ]
  },
  {
   "cell_type": "code",
   "execution_count": 113,
   "metadata": {},
   "outputs": [
    {
     "name": "stdout",
     "output_type": "stream",
     "text": [
      "Metric names ['loss']\n",
      "Metric values 0.3667676538228989\n"
     ]
    }
   ],
   "source": [
    "evaluation_data_generator = triple_generator(BATCH_SIZE, test_data, resize_shape, augment=False)\n",
    "evaluation_steps = 10\n",
    "metric_names = siamese_net.metrics_names\n",
    "metric_values = siamese_net.evaluate_generator(evaluation_data_generator, steps=evaluation_steps)\n",
    "print(\"Metric names\", metric_names)\n",
    "print(\"Metric values\", metric_values)"
   ]
  },
  {
   "cell_type": "markdown",
   "metadata": {},
   "source": [
    "# Save weights"
   ]
  },
  {
   "cell_type": "code",
   "execution_count": 129,
   "metadata": {},
   "outputs": [],
   "source": [
    "import time\n",
    "import os\n",
    "\n",
    "now = time.strftime('%Y.%m.%d %H:%M:%S')\n",
    "weights_directory = \"weights/\" + now + \"/\"\n",
    "if not os.path.exists(weights_directory):\n",
    "    os.makedirs(weights_directory)\n",
    "\n",
    "\n",
    "# siamese_net.save_weights(weights_directory + \"siamese_weights\")\n",
    "# convnet.save_weights(weights_directory + \"convnet_weights\")"
   ]
  },
  {
   "cell_type": "markdown",
   "metadata": {},
   "source": [
    "# Sub"
   ]
  },
  {
   "cell_type": "code",
   "execution_count": 114,
   "metadata": {},
   "outputs": [],
   "source": [
    "# data = pd.read_csv(\"data/train.csv\")\n",
    "# file_list = data['Image']\n",
    "# image_list = [get_image(f) for f in file_list]"
   ]
  },
  {
   "cell_type": "code",
   "execution_count": 115,
   "metadata": {},
   "outputs": [],
   "source": [
    "# id_list = data['Id']"
   ]
  },
  {
   "cell_type": "code",
   "execution_count": 116,
   "metadata": {},
   "outputs": [],
   "source": [
    "# Will want to change this to say trained embedding list. Or trained embeddings.\n",
    "\n",
    "embedding_list = convnet.predict(np.stack(image_list))"
   ]
  },
  {
   "cell_type": "code",
   "execution_count": 131,
   "metadata": {},
   "outputs": [],
   "source": [
    "def get_sub_image(file, shape=(resize_shape[0],resize_shape[1])):\n",
    "    image = Image.open('data/test/' + file)\n",
    "    image = image.resize(shape)\n",
    "    image = np.array(image)\n",
    "    if len(image.shape) == 2:\n",
    "        image = np.stack([image]*3,axis=2) \n",
    "    return image\n",
    "\n",
    "\n",
    "sample_sub = pd.read_csv(\"data/sample_submission.csv\")\n",
    "\n",
    "\n",
    "#Comment out:\n",
    "# sample_sub = sample_sub.head(200)\n",
    "\n",
    "\n",
    "\n",
    "\n",
    "\n",
    "submission_file_list = sample_sub['Image']\n",
    "submission_image_list = [get_sub_image(f) for f in submission_file_list]"
   ]
  },
  {
   "cell_type": "code",
   "execution_count": 132,
   "metadata": {},
   "outputs": [],
   "source": [
    "submission_embedding_list = convnet.predict(np.stack(submission_image_list))"
   ]
  },
  {
   "cell_type": "code",
   "execution_count": 133,
   "metadata": {},
   "outputs": [],
   "source": [
    "def remove_duplicates(li):\n",
    "    my_set = set()\n",
    "    filtered = []\n",
    "    for e in li:\n",
    "        if e not in my_set:\n",
    "            filtered.append(e)\n",
    "            my_set.add(e)\n",
    "    return filtered\n",
    "\n",
    "\n",
    "def classify(image_embedding, embedding_list, id_list, num_categories=5):\n",
    "    image_embedding = np.expand_dims(image_embedding, axis=0)\n",
    "    stacked_image = np.repeat(image_embedding,len(embedding_list),axis=0)\n",
    "    square_differences = (stacked_image - embedding_list)**2\n",
    "    scores = np.sum(square_differences, axis=1)\n",
    "    \n",
    "    #Take out magic 3. Put in margin.\n",
    "    \n",
    "    scores = np.append(scores, [3], axis=0)\n",
    "    id_list = np.append(id_list, ['new_whale'], axis=0)\n",
    "    \n",
    "    sorted_ids = [x for (y,x) in sorted(\n",
    "        zip(scores,id_list), key=lambda pair: pair[0])]\n",
    "    \n",
    "    return ' '.join(remove_duplicates(sorted_ids)[0:num_categories])\n",
    "    "
   ]
  },
  {
   "cell_type": "code",
   "execution_count": 134,
   "metadata": {},
   "outputs": [
    {
     "data": {
      "text/plain": [
       "'new_whale w_eea20c4 w_9e7021b w_026fdf8 w_3d66298'"
      ]
     },
     "execution_count": 134,
     "metadata": {},
     "output_type": "execute_result"
    }
   ],
   "source": [
    "classify(submission_embedding_list[7], embedding_list, id_list)"
   ]
  },
  {
   "cell_type": "code",
   "execution_count": 135,
   "metadata": {},
   "outputs": [
    {
     "data": {
      "text/html": [
       "<div>\n",
       "<style scoped>\n",
       "    .dataframe tbody tr th:only-of-type {\n",
       "        vertical-align: middle;\n",
       "    }\n",
       "\n",
       "    .dataframe tbody tr th {\n",
       "        vertical-align: top;\n",
       "    }\n",
       "\n",
       "    .dataframe thead th {\n",
       "        text-align: right;\n",
       "    }\n",
       "</style>\n",
       "<table border=\"1\" class=\"dataframe\">\n",
       "  <thead>\n",
       "    <tr style=\"text-align: right;\">\n",
       "      <th></th>\n",
       "      <th>Image</th>\n",
       "      <th>Id</th>\n",
       "      <th>image_array</th>\n",
       "    </tr>\n",
       "  </thead>\n",
       "  <tbody>\n",
       "    <tr>\n",
       "      <th>276</th>\n",
       "      <td>069e0d01.jpg</td>\n",
       "      <td>w_6398e9d</td>\n",
       "      <td>[[[226, 226, 226], [233, 233, 233], [228, 228,...</td>\n",
       "    </tr>\n",
       "    <tr>\n",
       "      <th>447</th>\n",
       "      <td>0b02fbcd.jpg</td>\n",
       "      <td>w_0e96943</td>\n",
       "      <td>[[[140, 140, 140], [140, 140, 140], [144, 144,...</td>\n",
       "    </tr>\n",
       "    <tr>\n",
       "      <th>1667</th>\n",
       "      <td>2c367983.jpg</td>\n",
       "      <td>w_b7d5069</td>\n",
       "      <td>[[[154, 165, 195], [133, 144, 174], [118, 121,...</td>\n",
       "    </tr>\n",
       "    <tr>\n",
       "      <th>9297</th>\n",
       "      <td>f255197f.jpg</td>\n",
       "      <td>w_d37b55b</td>\n",
       "      <td>[[[252, 252, 252], [252, 252, 252], [252, 252,...</td>\n",
       "    </tr>\n",
       "    <tr>\n",
       "      <th>6990</th>\n",
       "      <td>b591eaec.jpg</td>\n",
       "      <td>w_04c841c</td>\n",
       "      <td>[[[255, 255, 255], [255, 255, 255], [255, 255,...</td>\n",
       "    </tr>\n",
       "    <tr>\n",
       "      <th>4540</th>\n",
       "      <td>762354c7.jpg</td>\n",
       "      <td>w_7285eb3</td>\n",
       "      <td>[[[75, 116, 170], [86, 127, 181], [106, 149, 1...</td>\n",
       "    </tr>\n",
       "    <tr>\n",
       "      <th>1316</th>\n",
       "      <td>22316c00.jpg</td>\n",
       "      <td>w_21e178f</td>\n",
       "      <td>[[[43, 98, 128], [65, 120, 150], [85, 137, 187...</td>\n",
       "    </tr>\n",
       "    <tr>\n",
       "      <th>4949</th>\n",
       "      <td>80666e5c.jpg</td>\n",
       "      <td>w_19f0b15</td>\n",
       "      <td>[[[244, 244, 244], [244, 244, 244], [244, 244,...</td>\n",
       "    </tr>\n",
       "    <tr>\n",
       "      <th>3144</th>\n",
       "      <td>51b599b6.jpg</td>\n",
       "      <td>w_dac2f44</td>\n",
       "      <td>[[[232, 232, 232], [234, 234, 234], [230, 230,...</td>\n",
       "    </tr>\n",
       "    <tr>\n",
       "      <th>9020</th>\n",
       "      <td>eafadfb3.jpg</td>\n",
       "      <td>w_6f31916</td>\n",
       "      <td>[[[195, 195, 195], [209, 209, 209], [214, 214,...</td>\n",
       "    </tr>\n",
       "  </tbody>\n",
       "</table>\n",
       "</div>"
      ],
      "text/plain": [
       "             Image         Id  \\\n",
       "276   069e0d01.jpg  w_6398e9d   \n",
       "447   0b02fbcd.jpg  w_0e96943   \n",
       "1667  2c367983.jpg  w_b7d5069   \n",
       "9297  f255197f.jpg  w_d37b55b   \n",
       "6990  b591eaec.jpg  w_04c841c   \n",
       "4540  762354c7.jpg  w_7285eb3   \n",
       "1316  22316c00.jpg  w_21e178f   \n",
       "4949  80666e5c.jpg  w_19f0b15   \n",
       "3144  51b599b6.jpg  w_dac2f44   \n",
       "9020  eafadfb3.jpg  w_6f31916   \n",
       "\n",
       "                                            image_array  \n",
       "276   [[[226, 226, 226], [233, 233, 233], [228, 228,...  \n",
       "447   [[[140, 140, 140], [140, 140, 140], [144, 144,...  \n",
       "1667  [[[154, 165, 195], [133, 144, 174], [118, 121,...  \n",
       "9297  [[[252, 252, 252], [252, 252, 252], [252, 252,...  \n",
       "6990  [[[255, 255, 255], [255, 255, 255], [255, 255,...  \n",
       "4540  [[[75, 116, 170], [86, 127, 181], [106, 149, 1...  \n",
       "1316  [[[43, 98, 128], [65, 120, 150], [85, 137, 187...  \n",
       "4949  [[[244, 244, 244], [244, 244, 244], [244, 244,...  \n",
       "3144  [[[232, 232, 232], [234, 234, 234], [230, 230,...  \n",
       "9020  [[[195, 195, 195], [209, 209, 209], [214, 214,...  "
      ]
     },
     "execution_count": 135,
     "metadata": {},
     "output_type": "execute_result"
    }
   ],
   "source": [
    "data.head(10)"
   ]
  },
  {
   "cell_type": "code",
   "execution_count": 136,
   "metadata": {},
   "outputs": [],
   "source": [
    "# submission_embedding_list"
   ]
  },
  {
   "cell_type": "code",
   "execution_count": 137,
   "metadata": {},
   "outputs": [],
   "source": [
    "# submission_embedding_list[4]"
   ]
  },
  {
   "cell_type": "code",
   "execution_count": 138,
   "metadata": {},
   "outputs": [],
   "source": [
    "submission_prediction_list = [classify(image_embedding, embedding_list, id_list) for image_embedding in submission_embedding_list]"
   ]
  },
  {
   "cell_type": "code",
   "execution_count": 139,
   "metadata": {},
   "outputs": [],
   "source": [
    "submission = pd.DataFrame({'Image': submission_file_list, 'Id': submission_prediction_list}, columns=['Image','Id'])"
   ]
  },
  {
   "cell_type": "markdown",
   "metadata": {},
   "source": [
    "# Save Results"
   ]
  },
  {
   "cell_type": "code",
   "execution_count": 141,
   "metadata": {},
   "outputs": [],
   "source": [
    "results_directory = \"results/\" + now + \"/\"\n",
    "if not os.path.exists(results_directory):\n",
    "    os.makedirs(results_directory)\n",
    "    \n",
    "submission.to_csv(results_directory + \"submission.csv\",index=False)"
   ]
  },
  {
   "cell_type": "markdown",
   "metadata": {},
   "source": [
    "# Visualization"
   ]
  },
  {
   "cell_type": "code",
   "execution_count": 144,
   "metadata": {},
   "outputs": [],
   "source": [
    "from sklearn.decomposition import PCA\n",
    "import matplotlib.pyplot as plt"
   ]
  },
  {
   "cell_type": "code",
   "execution_count": 145,
   "metadata": {},
   "outputs": [],
   "source": [
    "pca = PCA(n_components=2)"
   ]
  },
  {
   "cell_type": "code",
   "execution_count": 276,
   "metadata": {},
   "outputs": [],
   "source": [
    "def color_from_string(s):\n",
    "    if s == 'w_1287fbc':\n",
    "        return 'red'\n",
    "    if s == 'w_98baff9':\n",
    "        return 'blue'\n",
    "    if s == 'w_1eafe46':\n",
    "        return 'green'"
   ]
  },
  {
   "cell_type": "code",
   "execution_count": 290,
   "metadata": {},
   "outputs": [],
   "source": [
    "vis_ids = [x[0] for x in training_counts.most_common(4)][1:4]\n",
    "vis_filter = id_list.apply(lambda x: x in vis_ids)\n",
    "vis_embedding_list = embedding_list[vis_filter]\n",
    "vis_id_list = id_list[vis_filter]\n",
    "vis_colour_list = [color_from_string(s) for s in vis_id_list]"
   ]
  },
  {
   "cell_type": "code",
   "execution_count": 283,
   "metadata": {},
   "outputs": [],
   "source": [
    "X_r = pca.fit(vis_embedding_list).transform(vis_embedding_list)"
   ]
  },
  {
   "cell_type": "code",
   "execution_count": 289,
   "metadata": {},
   "outputs": [
    {
     "data": {
      "image/png": "[encoded data removed]",
      "text/plain": [
       "<matplotlib.figure.Figure at 0x7feb382de7f0>"
      ]
     },
     "metadata": {},
     "output_type": "display_data"
    }
   ],
   "source": [
    "plt.figure(figsize=(30,20))\n",
    "plt.title(\"Visualizing the embedding of 3 whale categories\", fontsize=50)\n",
    "for i, c in zip(range(len(vis_id_list)), vis_colour_list):\n",
    "                 plt.scatter(X_r[i, 0], X_r[i, 1], color=c, s=150)"
   ]
  },
  {
   "cell_type": "markdown",
   "metadata": {},
   "source": [
    "# Model summary"
   ]
  },
  {
   "cell_type": "code",
   "execution_count": 291,
   "metadata": {},
   "outputs": [
    {
     "name": "stdout",
     "output_type": "stream",
     "text": [
      "_________________________________________________________________\n",
      "Layer (type)                 Output Shape              Param #   \n",
      "=================================================================\n",
      "conv_1 (Conv2D)              (None, 124, 124, 8)       608       \n",
      "_________________________________________________________________\n",
      "pool_1 (MaxPooling2D)        (None, 62, 62, 8)         0         \n",
      "_________________________________________________________________\n",
      "conv_2 (Conv2D)              (None, 60, 60, 12)        876       \n",
      "_________________________________________________________________\n",
      "pool_2 (MaxPooling2D)        (None, 30, 30, 12)        0         \n",
      "_________________________________________________________________\n",
      "conv_3 (Conv2D)              (None, 28, 28, 16)        1744      \n",
      "_________________________________________________________________\n",
      "pool_3 (MaxPooling2D)        (None, 14, 14, 16)        0         \n",
      "_________________________________________________________________\n",
      "conv_4 (Conv2D)              (None, 12, 12, 20)        2900      \n",
      "_________________________________________________________________\n",
      "conv_5 (Conv2D)              (None, 10, 10, 32)        5792      \n",
      "_________________________________________________________________\n",
      "pool_4 (MaxPooling2D)        (None, 5, 5, 32)          0         \n",
      "_________________________________________________________________\n",
      "flatten_2 (Flatten)          (None, 800)               0         \n",
      "_________________________________________________________________\n",
      "dense_1 (Dense)              (None, 128)               102528    \n",
      "_________________________________________________________________\n",
      "dense_2 (Dense)              (None, 128)               16512     \n",
      "_________________________________________________________________\n",
      "dense_3 (Dense)              (None, 64)                8256      \n",
      "=================================================================\n",
      "Total params: 139,216\n",
      "Trainable params: 139,216\n",
      "Non-trainable params: 0\n",
      "_________________________________________________________________\n"
     ]
    }
   ],
   "source": [
    "convnet.summary()"
   ]
  }
 ],
 "metadata": {
  "anaconda-cloud": {},
  "kernelspec": {
   "display_name": "Python 3",
   "language": "python",
   "name": "python3"
  },
  "language_info": {
   "codemirror_mode": {
    "name": "ipython",
    "version": 3
   },
   "file_extension": ".py",
   "mimetype": "text/x-python",
   "name": "python",
   "nbconvert_exporter": "python",
   "pygments_lexer": "ipython3",
   "version": "3.5.2"
  }
 },
 "nbformat": 4,
 "nbformat_minor": 2
}
