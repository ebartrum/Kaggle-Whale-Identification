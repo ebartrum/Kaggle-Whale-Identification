{
 "cells": [
  {
   "cell_type": "code",
   "execution_count": 1,
   "metadata": {},
   "outputs": [
    {
     "name": "stderr",
     "output_type": "stream",
     "text": [
      "Using TensorFlow backend.\n"
     ]
    }
   ],
   "source": [
    "import pandas as pd\n",
    "import numpy as np\n",
    "import matplotlib.pyplot as plt\n",
    "from data_augmentation import random_transform\n",
    "from random import randint\n",
    "\n",
    "from keras.models import Sequential, Model\n",
    "from keras.optimizers import Adam, SGD\n",
    "from keras import applications\n",
    "from keras.layers import Dense, Conv2D, MaxPooling2D, Reshape, Flatten, Input, merge, subtract, Lambda, Dropout\n",
    "from keras import backend as K"
   ]
  },
  {
   "cell_type": "code",
   "execution_count": 2,
   "metadata": {
    "collapsed": true
   },
   "outputs": [],
   "source": [
    "data = pd.read_csv(\"data/train.csv\")"
   ]
  },
  {
   "cell_type": "markdown",
   "metadata": {},
   "source": [
    "# Shuffle data"
   ]
  },
  {
   "cell_type": "code",
   "execution_count": 3,
   "metadata": {
    "collapsed": true
   },
   "outputs": [],
   "source": [
    "from sklearn.utils import shuffle\n",
    "data = shuffle(data)"
   ]
  },
  {
   "cell_type": "code",
   "execution_count": 4,
   "metadata": {},
   "outputs": [
    {
     "data": {
      "text/plain": [
       "9850"
      ]
     },
     "execution_count": 4,
     "metadata": {},
     "output_type": "execute_result"
    }
   ],
   "source": [
    "len(data)"
   ]
  },
  {
   "cell_type": "markdown",
   "metadata": {},
   "source": [
    "# Look at example "
   ]
  },
  {
   "cell_type": "code",
   "execution_count": 5,
   "metadata": {
    "collapsed": true
   },
   "outputs": [],
   "source": [
    "from PIL import Image\n",
    "image = Image.open('data/train/714b7e37.jpg')"
   ]
  },
  {
   "cell_type": "code",
   "execution_count": 6,
   "metadata": {},
   "outputs": [
    {
     "data": {
      "text/plain": [
       "(200, 1050, 3)"
      ]
     },
     "execution_count": 6,
     "metadata": {},
     "output_type": "execute_result"
    }
   ],
   "source": [
    "np.array(image).shape"
   ]
  },
  {
   "cell_type": "code",
   "execution_count": 7,
   "metadata": {},
   "outputs": [],
   "source": [
    "plt.imshow(image)\n",
    "plt.show()"
   ]
  },
  {
   "cell_type": "code",
   "execution_count": 8,
   "metadata": {
    "collapsed": true
   },
   "outputs": [],
   "source": [
    "resize_shape = (128, 128, 3)"
   ]
  },
  {
   "cell_type": "code",
   "execution_count": 9,
   "metadata": {
    "collapsed": true
   },
   "outputs": [],
   "source": [
    "file_list = data['Image']\n",
    "id_list = data['Id']"
   ]
  },
  {
   "cell_type": "code",
   "execution_count": 10,
   "metadata": {
    "collapsed": true
   },
   "outputs": [],
   "source": [
    "def get_image(file, shape=(resize_shape[0],resize_shape[1])):\n",
    "    image = Image.open('data/train/' + file)\n",
    "    image = image.resize(shape)\n",
    "    image = np.array(image)\n",
    "    if len(image.shape) == 2:\n",
    "        image = np.stack([image]*3,axis=2) \n",
    "    return image"
   ]
  },
  {
   "cell_type": "code",
   "execution_count": 11,
   "metadata": {
    "collapsed": true
   },
   "outputs": [],
   "source": [
    "image_list = [get_image(f) for f in file_list]"
   ]
  },
  {
   "cell_type": "code",
   "execution_count": 12,
   "metadata": {},
   "outputs": [],
   "source": [
    "fig=plt.figure(figsize=(20, 20))\n",
    "columns = 4\n",
    "rows = 5\n",
    "for i in range(1, columns*rows +1):\n",
    "    img = image_list[i]\n",
    "    fig.add_subplot(rows, columns, i)\n",
    "    plt.imshow(img)\n",
    "plt.show()"
   ]
  },
  {
   "cell_type": "code",
   "execution_count": 13,
   "metadata": {
    "collapsed": true
   },
   "outputs": [],
   "source": [
    "data['image_array'] = image_list"
   ]
  },
  {
   "cell_type": "markdown",
   "metadata": {},
   "source": [
    "# Create Test and Train"
   ]
  },
  {
   "cell_type": "code",
   "execution_count": 67,
   "metadata": {
    "collapsed": true
   },
   "outputs": [],
   "source": [
    "train_proportion = 0.8\n",
    "cutoff_index = int(len(data) * train_proportion)\n",
    "\n",
    "training_data = data.iloc[:cutoff_index].reset_index(drop=True)\n",
    "test_data = data.iloc[cutoff_index:].reset_index(drop=True)"
   ]
  },
  {
   "cell_type": "code",
   "execution_count": 68,
   "metadata": {},
   "outputs": [],
   "source": [
    "from collections import Counter\n",
    "\n",
    "training_counts = Counter(training_data['Id'])\n",
    "training_data['Id_count'] = training_data.apply(lambda x: training_counts.get(x[\"Id\"]), axis=1)\n",
    "test_counts = Counter(test_data['Id'])\n",
    "test_data['Id_count'] = test_data.apply(lambda x: test_counts.get(x[\"Id\"]), axis=1)"
   ]
  },
  {
   "cell_type": "markdown",
   "metadata": {},
   "source": [
    "# Create generator"
   ]
  },
  {
   "cell_type": "code",
   "execution_count": 17,
   "metadata": {
    "collapsed": true
   },
   "outputs": [],
   "source": [
    "def get_triple(len_data, data_images, data_ids, anchor_condition, augment=True):    \n",
    "    anchor_index = np.random.choice(anchor_condition.index[anchor_condition])    \n",
    "    anchor_image = data_images[anchor_index]\n",
    "    anchor_id = data_ids[anchor_index]   \n",
    "\n",
    "    same_id = anchor_id    \n",
    "    same_id_indices = (data_ids == anchor_id)\n",
    "    same_id_index = np.random.choice(same_id_indices.index[same_id_indices])\n",
    "    same_image = data_images[same_id_index]\n",
    "    \n",
    "    different_id = anchor_id    \n",
    "    while (anchor_id == different_id):\n",
    "        different_index = randint(0,len_data-1)\n",
    "        different_id = data_ids[different_index]\n",
    "    \n",
    "    different_image = data_images[different_index]\n",
    "    \n",
    "    if augment:\n",
    "        anchor_image = random_transform(anchor_image)\n",
    "        same_image = random_transform(same_image)\n",
    "        different_image = random_transform(different_image)\n",
    "    return anchor_image, same_image, different_image"
   ]
  },
  {
   "cell_type": "code",
   "execution_count": 18,
   "metadata": {
    "collapsed": true
   },
   "outputs": [],
   "source": [
    "def triple_generator(batch_size, data, resize_shape, augment=True):    \n",
    "    len_data = len(data)\n",
    "    data_images = np.stack(data['image_array'])\n",
    "    data_ids = data['Id']    \n",
    "    anchor_condition = (data['Id_count'] > 1) & (data_ids != 'new_whale')        \n",
    "    \n",
    "    while True:\n",
    "        anchor_batch = np.zeros((batch_size, resize_shape[0],resize_shape[1],resize_shape[2]))\n",
    "        same_image_batch = np.zeros((batch_size, resize_shape[0],resize_shape[1],resize_shape[2]))\n",
    "        different_image_batch = np.zeros((batch_size, resize_shape[0],resize_shape[1],resize_shape[2]))\n",
    "        for i in range(batch_size):\n",
    "            anchor_batch[i,:,:,:], same_image_batch[i,:,:,:], different_image_batch[i,:,:,:] = get_triple(\n",
    "                    len_data, data_images, data_ids, anchor_condition, augment)\n",
    "\n",
    "        batches = [anchor_batch, same_image_batch, different_image_batch]\n",
    "        yield batches, np.ones(batch_size)"
   ]
  },
  {
   "cell_type": "markdown",
   "metadata": {
    "collapsed": true
   },
   "source": [
    "# Create the network"
   ]
  },
  {
   "cell_type": "code",
   "execution_count": 19,
   "metadata": {
    "collapsed": true
   },
   "outputs": [],
   "source": [
    "input_shape = resize_shape\n",
    "anchor_input = Input(input_shape, name='anchor_input')\n",
    "same_category_input = Input(input_shape, name='positive_input')\n",
    "different_category_input = Input(input_shape, name='negative_input')"
   ]
  },
  {
   "cell_type": "code",
   "execution_count": 20,
   "metadata": {},
   "outputs": [
    {
     "name": "stderr",
     "output_type": "stream",
     "text": [
      "/home/edward_bartrum/anaconda3/lib/python3.6/site-packages/ipykernel_launcher.py:35: UserWarning: The `merge` function is deprecated and will be removed after 08/2017. Use instead layers from `keras.layers.merge`, e.g. `add`, `concatenate`, etc.\n",
      "/home/edward_bartrum/anaconda3/lib/python3.6/site-packages/keras/legacy/layers.py:458: UserWarning: The `Merge` layer is deprecated and will be removed after 08/2017. Use instead layers from `keras.layers.merge`, e.g. `add`, `concatenate`, etc.\n",
      "  name=name)\n",
      "/home/edward_bartrum/anaconda3/lib/python3.6/site-packages/ipykernel_launcher.py:37: UserWarning: Update your `Model` call to the Keras 2 API: `Model(inputs=[<tf.Tenso..., outputs=Tensor(\"lo...)`\n"
     ]
    }
   ],
   "source": [
    "def triplet_loss(X):    \n",
    "    margin = 3    \n",
    "    anchor_embedding, same_embedding, different_embedding = X    \n",
    "    positive_distance = K.square(anchor_embedding - same_embedding)\n",
    "    negative_distance = K.square(anchor_embedding - different_embedding)    \n",
    "    positive_distance = K.mean(positive_distance, axis=-1, keepdims=True)\n",
    "    negative_distance = K.mean(negative_distance, axis=-1, keepdims=True)    \n",
    "    loss = K.maximum(0.0, margin + positive_distance - negative_distance)   \n",
    "    return K.mean(loss)\n",
    "    \n",
    "convnet = Sequential(name='convnet')\n",
    "convnet.add(Conv2D(filters=8, input_shape=(\n",
    "    resize_shape[0],resize_shape[1],resize_shape[2],), kernel_size=5, activation='relu',name='conv_1'))\n",
    "convnet.add(MaxPooling2D(pool_size=2,name='pool_1'))\n",
    "convnet.add(Conv2D(filters=12, kernel_size=3, activation='relu',name='conv_2'))\n",
    "convnet.add(MaxPooling2D(pool_size=2,name='pool_2'))\n",
    "convnet.add(Conv2D(filters=16, kernel_size=3, activation='relu',name='conv_3'))\n",
    "convnet.add(MaxPooling2D(pool_size=2,name='pool_3'))\n",
    "convnet.add(Conv2D(filters=20, kernel_size=3, activation='relu',name='conv_4'))\n",
    "convnet.add(Conv2D(filters=32, kernel_size=3, activation='relu',name='conv_5'))\n",
    "convnet.add(MaxPooling2D(pool_size=2,name='pool_4'))\n",
    "convnet.add(Flatten())\n",
    "convnet.add(Dense(units=128, activation='relu',name='dense_1'))\n",
    "convnet.add(Dense(units=128, activation='relu',name='dense_2'))\n",
    "convnet.add(Dense(units=64, activation='relu',name='dense_3'))\n",
    "\n",
    "anchor = convnet(anchor_input)\n",
    "same = convnet(same_category_input)\n",
    "different = convnet(different_category_input)\n",
    "\n",
    "loss = merge(\n",
    "        [anchor, same, different],\n",
    "        mode=triplet_loss,\n",
    "        name='loss',\n",
    "        output_shape=(1, ))\n",
    "    \n",
    "siamese_net = Model(input=[anchor_input,same_category_input, different_category_input],output=loss)"
   ]
  },
  {
   "cell_type": "code",
   "execution_count": 21,
   "metadata": {
    "collapsed": true
   },
   "outputs": [],
   "source": [
    "def identity_loss(y_true, y_pred):\n",
    "    return K.mean(y_pred - 0 * y_true)\n",
    "#     return K.mean(y_pred)"
   ]
  },
  {
   "cell_type": "code",
   "execution_count": 22,
   "metadata": {
    "collapsed": true
   },
   "outputs": [],
   "source": [
    "LEARNING_RATE = 0.000000001\n",
    "# siamese_net.compile(loss=identity_loss,optimizer=SGD(LEARNING_RATE))\n",
    "siamese_net.compile(loss=identity_loss,optimizer=Adam(LEARNING_RATE))"
   ]
  },
  {
   "cell_type": "markdown",
   "metadata": {},
   "source": [
    "# Model summary"
   ]
  },
  {
   "cell_type": "code",
   "execution_count": 23,
   "metadata": {},
   "outputs": [
    {
     "name": "stdout",
     "output_type": "stream",
     "text": [
      "_________________________________________________________________\n",
      "Layer (type)                 Output Shape              Param #   \n",
      "=================================================================\n",
      "conv_1 (Conv2D)              (None, 124, 124, 8)       608       \n",
      "_________________________________________________________________\n",
      "pool_1 (MaxPooling2D)        (None, 62, 62, 8)         0         \n",
      "_________________________________________________________________\n",
      "conv_2 (Conv2D)              (None, 60, 60, 12)        876       \n",
      "_________________________________________________________________\n",
      "pool_2 (MaxPooling2D)        (None, 30, 30, 12)        0         \n",
      "_________________________________________________________________\n",
      "conv_3 (Conv2D)              (None, 28, 28, 16)        1744      \n",
      "_________________________________________________________________\n",
      "pool_3 (MaxPooling2D)        (None, 14, 14, 16)        0         \n",
      "_________________________________________________________________\n",
      "conv_4 (Conv2D)              (None, 12, 12, 20)        2900      \n",
      "_________________________________________________________________\n",
      "conv_5 (Conv2D)              (None, 10, 10, 32)        5792      \n",
      "_________________________________________________________________\n",
      "pool_4 (MaxPooling2D)        (None, 5, 5, 32)          0         \n",
      "_________________________________________________________________\n",
      "flatten_1 (Flatten)          (None, 800)               0         \n",
      "_________________________________________________________________\n",
      "dense_1 (Dense)              (None, 128)               102528    \n",
      "_________________________________________________________________\n",
      "dense_2 (Dense)              (None, 128)               16512     \n",
      "_________________________________________________________________\n",
      "dense_3 (Dense)              (None, 64)                8256      \n",
      "=================================================================\n",
      "Total params: 139,216\n",
      "Trainable params: 139,216\n",
      "Non-trainable params: 0\n",
      "_________________________________________________________________\n"
     ]
    }
   ],
   "source": [
    "convnet.summary()"
   ]
  },
  {
   "cell_type": "markdown",
   "metadata": {},
   "source": [
    "# Plot Model"
   ]
  },
  {
   "cell_type": "code",
   "execution_count": 24,
   "metadata": {},
   "outputs": [],
   "source": [
    "# from keras.utils import plot_model\n",
    "# plot_model(convnet, to_file='convnet.png', show_shapes=True)\n",
    "# from IPython.display import Image\n",
    "# Image(\"convnet.png\")"
   ]
  },
  {
   "cell_type": "code",
   "execution_count": 25,
   "metadata": {},
   "outputs": [],
   "source": [
    "# plot_model(siamese_net, to_file='siamese_net.png', show_shapes=True)\n",
    "# Image(\"siamese_net.png\")"
   ]
  },
  {
   "cell_type": "markdown",
   "metadata": {},
   "source": [
    "# Train the network"
   ]
  },
  {
   "cell_type": "code",
   "execution_count": 26,
   "metadata": {
    "collapsed": true
   },
   "outputs": [],
   "source": [
    "from keras.optimizers import Adam, SGD"
   ]
  },
  {
   "cell_type": "code",
   "execution_count": 31,
   "metadata": {
    "collapsed": true
   },
   "outputs": [],
   "source": [
    "BATCH_SIZE = 64\n",
    "training_data_generator = triple_generator(BATCH_SIZE, training_data, resize_shape, augment=True)"
   ]
  },
  {
   "cell_type": "code",
   "execution_count": 33,
   "metadata": {},
   "outputs": [
    {
     "name": "stderr",
     "output_type": "stream",
     "text": [
      "/home/edward_bartrum/anaconda3/lib/python3.6/site-packages/keras/engine/training.py:1987: UserWarning: Using a generator with `use_multiprocessing=True` and multiple workers may duplicate your data. Please consider using the`keras.utils.Sequence class.\n",
      "  UserWarning('Using a generator with `use_multiprocessing=True`'\n"
     ]
    },
    {
     "name": "stdout",
     "output_type": "stream",
     "text": [
      "Epoch 1/100\n",
      "100/100 [==============================] - 40s - loss: 0.4467    \n",
      "Epoch 2/100\n",
      "100/100 [==============================] - 39s - loss: 0.4625    \n",
      "Epoch 3/100\n",
      "100/100 [==============================] - 37s - loss: 0.4599    \n",
      "Epoch 4/100\n",
      "100/100 [==============================] - 37s - loss: 0.4643    \n",
      "Epoch 5/100\n",
      "100/100 [==============================] - 38s - loss: 0.4934    \n",
      "Epoch 6/100\n",
      "100/100 [==============================] - 37s - loss: 0.4501    \n",
      "Epoch 7/100\n",
      "100/100 [==============================] - 38s - loss: 0.4292    \n",
      "Epoch 8/100\n",
      "100/100 [==============================] - 38s - loss: 0.4389    \n",
      "Epoch 9/100\n",
      "100/100 [==============================] - 37s - loss: 0.4400    \n",
      "Epoch 10/100\n",
      "100/100 [==============================] - 37s - loss: 0.4693    \n",
      "Epoch 11/100\n",
      "100/100 [==============================] - 38s - loss: 0.4794    \n",
      "Epoch 12/100\n",
      "100/100 [==============================] - 37s - loss: 0.4863    \n",
      "Epoch 13/100\n",
      "100/100 [==============================] - 37s - loss: 0.4460    \n",
      "Epoch 14/100\n",
      "100/100 [==============================] - 38s - loss: 0.4675    \n",
      "Epoch 15/100\n",
      "100/100 [==============================] - 37s - loss: 0.4568    \n",
      "Epoch 16/100\n",
      "100/100 [==============================] - 37s - loss: 0.4166    \n",
      "Epoch 17/100\n",
      "100/100 [==============================] - 38s - loss: 0.4255    \n",
      "Epoch 18/100\n",
      "100/100 [==============================] - 37s - loss: 0.4445    \n",
      "Epoch 19/100\n",
      "100/100 [==============================] - 37s - loss: 0.4750    \n",
      "Epoch 20/100\n",
      "100/100 [==============================] - 37s - loss: 0.5017    \n",
      "Epoch 21/100\n",
      "100/100 [==============================] - 38s - loss: 0.4568    \n",
      "Epoch 22/100\n",
      "100/100 [==============================] - 38s - loss: 0.4279    \n",
      "Epoch 23/100\n",
      "100/100 [==============================] - 37s - loss: 0.4566    \n",
      "Epoch 24/100\n",
      "100/100 [==============================] - 37s - loss: 0.4651    \n",
      "Epoch 25/100\n",
      "100/100 [==============================] - 38s - loss: 0.4449    \n",
      "Epoch 26/100\n",
      "100/100 [==============================] - 38s - loss: 0.4553    \n",
      "Epoch 27/100\n",
      "100/100 [==============================] - 38s - loss: 0.4319    \n",
      "Epoch 28/100\n",
      "100/100 [==============================] - 37s - loss: 0.4674    \n",
      "Epoch 29/100\n",
      "100/100 [==============================] - 38s - loss: 0.4914    \n",
      "Epoch 30/100\n",
      "100/100 [==============================] - 37s - loss: 0.4351    \n",
      "Epoch 31/100\n",
      "100/100 [==============================] - 38s - loss: 0.4485    \n",
      "Epoch 32/100\n",
      "100/100 [==============================] - 38s - loss: 0.4628    \n",
      "Epoch 33/100\n",
      "100/100 [==============================] - 37s - loss: 0.4670    \n",
      "Epoch 34/100\n",
      "100/100 [==============================] - 37s - loss: 0.4517    \n",
      "Epoch 35/100\n",
      "100/100 [==============================] - 38s - loss: 0.4662    \n",
      "Epoch 36/100\n",
      "100/100 [==============================] - 38s - loss: 0.4470    \n",
      "Epoch 37/100\n",
      "100/100 [==============================] - 37s - loss: 0.4566    \n",
      "Epoch 38/100\n",
      "100/100 [==============================] - 38s - loss: 0.4741    \n",
      "Epoch 39/100\n",
      "100/100 [==============================] - 37s - loss: 0.4618    \n",
      "Epoch 40/100\n",
      "100/100 [==============================] - 38s - loss: 0.4631    \n",
      "Epoch 41/100\n",
      "100/100 [==============================] - 37s - loss: 0.4640    \n",
      "Epoch 42/100\n",
      "100/100 [==============================] - 37s - loss: 0.4292    \n",
      "Epoch 43/100\n",
      "100/100 [==============================] - 37s - loss: 0.4466    \n",
      "Epoch 44/100\n",
      "100/100 [==============================] - 38s - loss: 0.4398    \n",
      "Epoch 45/100\n",
      "100/100 [==============================] - 37s - loss: 0.4599    \n",
      "Epoch 46/100\n",
      "100/100 [==============================] - 38s - loss: 0.4908    \n",
      "Epoch 47/100\n",
      "100/100 [==============================] - 37s - loss: 0.4673    \n",
      "Epoch 48/100\n",
      "100/100 [==============================] - 37s - loss: 0.4619    \n",
      "Epoch 49/100\n",
      "100/100 [==============================] - 37s - loss: 0.4845    \n",
      "Epoch 50/100\n",
      "100/100 [==============================] - 38s - loss: 0.4646    \n",
      "Epoch 51/100\n",
      "100/100 [==============================] - 37s - loss: 0.4477    \n",
      "Epoch 52/100\n",
      "100/100 [==============================] - 38s - loss: 0.4431    \n",
      "Epoch 53/100\n",
      "100/100 [==============================] - 39s - loss: 0.4175    \n",
      "Epoch 54/100\n",
      "100/100 [==============================] - 38s - loss: 0.4488    \n",
      "Epoch 55/100\n",
      "100/100 [==============================] - 39s - loss: 0.4170    \n",
      "Epoch 56/100\n",
      "100/100 [==============================] - 41s - loss: 0.4417    \n",
      "Epoch 57/100\n",
      "100/100 [==============================] - 43s - loss: 0.4406    \n",
      "Epoch 58/100\n",
      "100/100 [==============================] - 44s - loss: 0.4439    \n",
      "Epoch 59/100\n",
      "100/100 [==============================] - 43s - loss: 0.4333    \n",
      "Epoch 60/100\n",
      "100/100 [==============================] - 44s - loss: 0.4488    \n",
      "Epoch 61/100\n",
      "100/100 [==============================] - 43s - loss: 0.4620    \n",
      "Epoch 62/100\n",
      "100/100 [==============================] - 43s - loss: 0.4480    \n",
      "Epoch 63/100\n",
      "100/100 [==============================] - 44s - loss: 0.4561    \n",
      "Epoch 64/100\n",
      "100/100 [==============================] - 43s - loss: 0.4493    \n",
      "Epoch 65/100\n",
      "100/100 [==============================] - 43s - loss: 0.4299    \n",
      "Epoch 66/100\n",
      "100/100 [==============================] - 42s - loss: 0.4730    \n",
      "Epoch 67/100\n",
      "100/100 [==============================] - 44s - loss: 0.4324    \n",
      "Epoch 68/100\n",
      "100/100 [==============================] - 43s - loss: 0.4305    \n",
      "Epoch 69/100\n",
      "100/100 [==============================] - 43s - loss: 0.4563    \n",
      "Epoch 70/100\n",
      "100/100 [==============================] - 44s - loss: 0.4623    \n",
      "Epoch 71/100\n",
      "100/100 [==============================] - 43s - loss: 0.4369    \n",
      "Epoch 72/100\n",
      "100/100 [==============================] - 44s - loss: 0.4939    \n",
      "Epoch 73/100\n",
      "100/100 [==============================] - 43s - loss: 0.4468    \n",
      "Epoch 74/100\n",
      "100/100 [==============================] - 44s - loss: 0.4329    - ETA: 4s - l\n",
      "Epoch 75/100\n",
      "100/100 [==============================] - 43s - loss: 0.4892    \n",
      "Epoch 76/100\n",
      "100/100 [==============================] - 42s - loss: 0.4691    \n",
      "Epoch 77/100\n",
      "100/100 [==============================] - 44s - loss: 0.4534    \n",
      "Epoch 78/100\n",
      "100/100 [==============================] - 43s - loss: 0.4775    \n",
      "Epoch 79/100\n",
      "100/100 [==============================] - 43s - loss: 0.4476    \n",
      "Epoch 80/100\n",
      "  8/100 [=>............................] - ETA: 59s - loss: 0.5040"
     ]
    },
    {
     "ename": "KeyboardInterrupt",
     "evalue": "",
     "output_type": "error",
     "traceback": [
      "\u001b[0;31m-------------------------------------------------------------------\u001b[0m",
      "\u001b[0;31mKeyboardInterrupt\u001b[0m                 Traceback (most recent call last)",
      "\u001b[0;32m<ipython-input-33-d183b2f4dcd5>\u001b[0m in \u001b[0;36m<module>\u001b[0;34m()\u001b[0m\n\u001b[1;32m      4\u001b[0m                                     \u001b[0msteps_per_epoch\u001b[0m\u001b[0;34m=\u001b[0m\u001b[0;36m100\u001b[0m\u001b[0;34m,\u001b[0m\u001b[0;34m\u001b[0m\u001b[0m\n\u001b[1;32m      5\u001b[0m                                     \u001b[0mworkers\u001b[0m\u001b[0;34m=\u001b[0m\u001b[0;36m20\u001b[0m\u001b[0;34m,\u001b[0m\u001b[0;34m\u001b[0m\u001b[0m\n\u001b[0;32m----> 6\u001b[0;31m                                     use_multiprocessing=True)\n\u001b[0m",
      "\u001b[0;32m~/anaconda3/lib/python3.6/site-packages/keras/legacy/interfaces.py\u001b[0m in \u001b[0;36mwrapper\u001b[0;34m(*args, **kwargs)\u001b[0m\n\u001b[1;32m     85\u001b[0m                 warnings.warn('Update your `' + object_name +\n\u001b[1;32m     86\u001b[0m                               '` call to the Keras 2 API: ' + signature, stacklevel=2)\n\u001b[0;32m---> 87\u001b[0;31m             \u001b[0;32mreturn\u001b[0m \u001b[0mfunc\u001b[0m\u001b[0;34m(\u001b[0m\u001b[0;34m*\u001b[0m\u001b[0margs\u001b[0m\u001b[0;34m,\u001b[0m \u001b[0;34m**\u001b[0m\u001b[0mkwargs\u001b[0m\u001b[0;34m)\u001b[0m\u001b[0;34m\u001b[0m\u001b[0m\n\u001b[0m\u001b[1;32m     88\u001b[0m         \u001b[0mwrapper\u001b[0m\u001b[0;34m.\u001b[0m\u001b[0m_original_function\u001b[0m \u001b[0;34m=\u001b[0m \u001b[0mfunc\u001b[0m\u001b[0;34m\u001b[0m\u001b[0m\n\u001b[1;32m     89\u001b[0m         \u001b[0;32mreturn\u001b[0m \u001b[0mwrapper\u001b[0m\u001b[0;34m\u001b[0m\u001b[0m\n",
      "\u001b[0;32m~/anaconda3/lib/python3.6/site-packages/keras/engine/training.py\u001b[0m in \u001b[0;36mfit_generator\u001b[0;34m(self, generator, steps_per_epoch, epochs, verbose, callbacks, validation_data, validation_steps, class_weight, max_queue_size, workers, use_multiprocessing, shuffle, initial_epoch)\u001b[0m\n\u001b[1;32m   2040\u001b[0m                     outs = self.train_on_batch(x, y,\n\u001b[1;32m   2041\u001b[0m                                                \u001b[0msample_weight\u001b[0m\u001b[0;34m=\u001b[0m\u001b[0msample_weight\u001b[0m\u001b[0;34m,\u001b[0m\u001b[0;34m\u001b[0m\u001b[0m\n\u001b[0;32m-> 2042\u001b[0;31m                                                class_weight=class_weight)\n\u001b[0m\u001b[1;32m   2043\u001b[0m \u001b[0;34m\u001b[0m\u001b[0m\n\u001b[1;32m   2044\u001b[0m                     \u001b[0;32mif\u001b[0m \u001b[0;32mnot\u001b[0m \u001b[0misinstance\u001b[0m\u001b[0;34m(\u001b[0m\u001b[0mouts\u001b[0m\u001b[0;34m,\u001b[0m \u001b[0mlist\u001b[0m\u001b[0;34m)\u001b[0m\u001b[0;34m:\u001b[0m\u001b[0;34m\u001b[0m\u001b[0m\n",
      "\u001b[0;32m~/anaconda3/lib/python3.6/site-packages/keras/engine/training.py\u001b[0m in \u001b[0;36mtrain_on_batch\u001b[0;34m(self, x, y, sample_weight, class_weight)\u001b[0m\n\u001b[1;32m   1760\u001b[0m             \u001b[0mins\u001b[0m \u001b[0;34m=\u001b[0m \u001b[0mx\u001b[0m \u001b[0;34m+\u001b[0m \u001b[0my\u001b[0m \u001b[0;34m+\u001b[0m \u001b[0msample_weights\u001b[0m\u001b[0;34m\u001b[0m\u001b[0m\n\u001b[1;32m   1761\u001b[0m         \u001b[0mself\u001b[0m\u001b[0;34m.\u001b[0m\u001b[0m_make_train_function\u001b[0m\u001b[0;34m(\u001b[0m\u001b[0;34m)\u001b[0m\u001b[0;34m\u001b[0m\u001b[0m\n\u001b[0;32m-> 1762\u001b[0;31m         \u001b[0moutputs\u001b[0m \u001b[0;34m=\u001b[0m \u001b[0mself\u001b[0m\u001b[0;34m.\u001b[0m\u001b[0mtrain_function\u001b[0m\u001b[0;34m(\u001b[0m\u001b[0mins\u001b[0m\u001b[0;34m)\u001b[0m\u001b[0;34m\u001b[0m\u001b[0m\n\u001b[0m\u001b[1;32m   1763\u001b[0m         \u001b[0;32mif\u001b[0m \u001b[0mlen\u001b[0m\u001b[0;34m(\u001b[0m\u001b[0moutputs\u001b[0m\u001b[0;34m)\u001b[0m \u001b[0;34m==\u001b[0m \u001b[0;36m1\u001b[0m\u001b[0;34m:\u001b[0m\u001b[0;34m\u001b[0m\u001b[0m\n\u001b[1;32m   1764\u001b[0m             \u001b[0;32mreturn\u001b[0m \u001b[0moutputs\u001b[0m\u001b[0;34m[\u001b[0m\u001b[0;36m0\u001b[0m\u001b[0;34m]\u001b[0m\u001b[0;34m\u001b[0m\u001b[0m\n",
      "\u001b[0;32m~/anaconda3/lib/python3.6/site-packages/keras/backend/tensorflow_backend.py\u001b[0m in \u001b[0;36m__call__\u001b[0;34m(self, inputs)\u001b[0m\n\u001b[1;32m   2271\u001b[0m         updated = session.run(self.outputs + [self.updates_op],\n\u001b[1;32m   2272\u001b[0m                               \u001b[0mfeed_dict\u001b[0m\u001b[0;34m=\u001b[0m\u001b[0mfeed_dict\u001b[0m\u001b[0;34m,\u001b[0m\u001b[0;34m\u001b[0m\u001b[0m\n\u001b[0;32m-> 2273\u001b[0;31m                               **self.session_kwargs)\n\u001b[0m\u001b[1;32m   2274\u001b[0m         \u001b[0;32mreturn\u001b[0m \u001b[0mupdated\u001b[0m\u001b[0;34m[\u001b[0m\u001b[0;34m:\u001b[0m\u001b[0mlen\u001b[0m\u001b[0;34m(\u001b[0m\u001b[0mself\u001b[0m\u001b[0;34m.\u001b[0m\u001b[0moutputs\u001b[0m\u001b[0;34m)\u001b[0m\u001b[0;34m]\u001b[0m\u001b[0;34m\u001b[0m\u001b[0m\n\u001b[1;32m   2275\u001b[0m \u001b[0;34m\u001b[0m\u001b[0m\n",
      "\u001b[0;32m~/anaconda3/lib/python3.6/site-packages/tensorflow/python/client/session.py\u001b[0m in \u001b[0;36mrun\u001b[0;34m(self, fetches, feed_dict, options, run_metadata)\u001b[0m\n\u001b[1;32m    893\u001b[0m     \u001b[0;32mtry\u001b[0m\u001b[0;34m:\u001b[0m\u001b[0;34m\u001b[0m\u001b[0m\n\u001b[1;32m    894\u001b[0m       result = self._run(None, fetches, feed_dict, options_ptr,\n\u001b[0;32m--> 895\u001b[0;31m                          run_metadata_ptr)\n\u001b[0m\u001b[1;32m    896\u001b[0m       \u001b[0;32mif\u001b[0m \u001b[0mrun_metadata\u001b[0m\u001b[0;34m:\u001b[0m\u001b[0;34m\u001b[0m\u001b[0m\n\u001b[1;32m    897\u001b[0m         \u001b[0mproto_data\u001b[0m \u001b[0;34m=\u001b[0m \u001b[0mtf_session\u001b[0m\u001b[0;34m.\u001b[0m\u001b[0mTF_GetBuffer\u001b[0m\u001b[0;34m(\u001b[0m\u001b[0mrun_metadata_ptr\u001b[0m\u001b[0;34m)\u001b[0m\u001b[0;34m\u001b[0m\u001b[0m\n",
      "\u001b[0;32m~/anaconda3/lib/python3.6/site-packages/tensorflow/python/client/session.py\u001b[0m in \u001b[0;36m_run\u001b[0;34m(self, handle, fetches, feed_dict, options, run_metadata)\u001b[0m\n\u001b[1;32m   1103\u001b[0m \u001b[0;34m\u001b[0m\u001b[0m\n\u001b[1;32m   1104\u001b[0m           \u001b[0mfeed_dict_tensor\u001b[0m\u001b[0;34m[\u001b[0m\u001b[0msubfeed_t\u001b[0m\u001b[0;34m]\u001b[0m \u001b[0;34m=\u001b[0m \u001b[0mnp_val\u001b[0m\u001b[0;34m\u001b[0m\u001b[0m\n\u001b[0;32m-> 1105\u001b[0;31m           \u001b[0mfeed_map\u001b[0m\u001b[0;34m[\u001b[0m\u001b[0mcompat\u001b[0m\u001b[0;34m.\u001b[0m\u001b[0mas_bytes\u001b[0m\u001b[0;34m(\u001b[0m\u001b[0msubfeed_t\u001b[0m\u001b[0;34m.\u001b[0m\u001b[0mname\u001b[0m\u001b[0;34m)\u001b[0m\u001b[0;34m]\u001b[0m \u001b[0;34m=\u001b[0m \u001b[0;34m(\u001b[0m\u001b[0msubfeed_t\u001b[0m\u001b[0;34m,\u001b[0m \u001b[0msubfeed_val\u001b[0m\u001b[0;34m)\u001b[0m\u001b[0;34m\u001b[0m\u001b[0m\n\u001b[0m\u001b[1;32m   1106\u001b[0m \u001b[0;34m\u001b[0m\u001b[0m\n\u001b[1;32m   1107\u001b[0m     \u001b[0;31m# Create a fetch handler to take care of the structure of fetches.\u001b[0m\u001b[0;34m\u001b[0m\u001b[0;34m\u001b[0m\u001b[0m\n",
      "\u001b[0;32m~/anaconda3/lib/python3.6/site-packages/tensorflow/python/framework/ops.py\u001b[0m in \u001b[0;36mname\u001b[0;34m(self)\u001b[0m\n\u001b[1;32m    280\u001b[0m   \u001b[0;32mdef\u001b[0m \u001b[0mname\u001b[0m\u001b[0;34m(\u001b[0m\u001b[0mself\u001b[0m\u001b[0;34m)\u001b[0m\u001b[0;34m:\u001b[0m\u001b[0;34m\u001b[0m\u001b[0m\n\u001b[1;32m    281\u001b[0m     \u001b[0;34m\"\"\"The string name of this tensor.\"\"\"\u001b[0m\u001b[0;34m\u001b[0m\u001b[0m\n\u001b[0;32m--> 282\u001b[0;31m     \u001b[0;32mif\u001b[0m \u001b[0;32mnot\u001b[0m \u001b[0mself\u001b[0m\u001b[0;34m.\u001b[0m\u001b[0m_op\u001b[0m\u001b[0;34m.\u001b[0m\u001b[0mname\u001b[0m\u001b[0;34m:\u001b[0m\u001b[0;34m\u001b[0m\u001b[0m\n\u001b[0m\u001b[1;32m    283\u001b[0m       \u001b[0;32mraise\u001b[0m \u001b[0mValueError\u001b[0m\u001b[0;34m(\u001b[0m\u001b[0;34m\"Operation was not named: %s\"\u001b[0m \u001b[0;34m%\u001b[0m \u001b[0mself\u001b[0m\u001b[0;34m.\u001b[0m\u001b[0m_op\u001b[0m\u001b[0;34m)\u001b[0m\u001b[0;34m\u001b[0m\u001b[0m\n\u001b[1;32m    284\u001b[0m     \u001b[0;32mreturn\u001b[0m \u001b[0;34m\"%s:%d\"\u001b[0m \u001b[0;34m%\u001b[0m \u001b[0;34m(\u001b[0m\u001b[0mself\u001b[0m\u001b[0;34m.\u001b[0m\u001b[0m_op\u001b[0m\u001b[0;34m.\u001b[0m\u001b[0mname\u001b[0m\u001b[0;34m,\u001b[0m \u001b[0mself\u001b[0m\u001b[0;34m.\u001b[0m\u001b[0m_value_index\u001b[0m\u001b[0;34m)\u001b[0m\u001b[0;34m\u001b[0m\u001b[0m\n",
      "\u001b[0;32m~/anaconda3/lib/python3.6/site-packages/tensorflow/python/framework/ops.py\u001b[0m in \u001b[0;36mname\u001b[0;34m(self)\u001b[0m\n\u001b[1;32m   1355\u001b[0m       \u001b[0;32mreturn\u001b[0m \u001b[0mc_api\u001b[0m\u001b[0;34m.\u001b[0m\u001b[0mTF_OperationName\u001b[0m\u001b[0;34m(\u001b[0m\u001b[0mself\u001b[0m\u001b[0;34m.\u001b[0m\u001b[0m_c_op\u001b[0m\u001b[0;34m)\u001b[0m\u001b[0;34m\u001b[0m\u001b[0m\n\u001b[1;32m   1356\u001b[0m     \u001b[0;32melse\u001b[0m\u001b[0;34m:\u001b[0m\u001b[0;34m\u001b[0m\u001b[0m\n\u001b[0;32m-> 1357\u001b[0;31m       \u001b[0;32mreturn\u001b[0m \u001b[0mself\u001b[0m\u001b[0;34m.\u001b[0m\u001b[0m_node_def\u001b[0m\u001b[0;34m.\u001b[0m\u001b[0mname\u001b[0m\u001b[0;34m\u001b[0m\u001b[0m\n\u001b[0m\u001b[1;32m   1358\u001b[0m \u001b[0;34m\u001b[0m\u001b[0m\n\u001b[1;32m   1359\u001b[0m   \u001b[0;34m@\u001b[0m\u001b[0mproperty\u001b[0m\u001b[0;34m\u001b[0m\u001b[0m\n",
      "\u001b[0;31mKeyboardInterrupt\u001b[0m: "
     ]
    }
   ],
   "source": [
    "history = siamese_net.fit_generator(training_data_generator,\n",
    "                                    verbose=1, \n",
    "                                    epochs=100, \n",
    "                                    steps_per_epoch=100,\n",
    "                                    workers=20,\n",
    "                                    use_multiprocessing=True)"
   ]
  },
  {
   "cell_type": "markdown",
   "metadata": {},
   "source": [
    "# Plot loss function "
   ]
  },
  {
   "cell_type": "code",
   "execution_count": null,
   "metadata": {},
   "outputs": [],
   "source": [
    "plt.plot(history.history['loss'])\n",
    "plt.title(\"Loss function\")\n",
    "plt.xlabel(\"epochs\")\n",
    "plt.show()"
   ]
  },
  {
   "cell_type": "markdown",
   "metadata": {},
   "source": [
    "# Load weights (optional)"
   ]
  },
  {
   "cell_type": "code",
   "execution_count": 29,
   "metadata": {
    "collapsed": true
   },
   "outputs": [],
   "source": [
    "# weights_folder = 'weights/' + '2018.02.22 19:17:11' + '/'\n",
    "\n",
    "# convnet.load_weights(weights_folder + 'convnet_weights')\n",
    "# siamese_net.load_weights(weights_folder + 'siamese_weights')"
   ]
  },
  {
   "cell_type": "markdown",
   "metadata": {},
   "source": [
    "# Calculate loss on test set "
   ]
  },
  {
   "cell_type": "code",
   "execution_count": null,
   "metadata": {},
   "outputs": [],
   "source": [
    "evaluation_data_generator = triple_generator(BATCH_SIZE, test_data, resize_shape, augment=False)\n",
    "evaluation_steps = 10\n",
    "metric_names = siamese_net.metrics_names\n",
    "metric_values = siamese_net.evaluate_generator(evaluation_data_generator, steps=evaluation_steps)\n",
    "print(\"Metric names\", metric_names)\n",
    "print(\"Metric values\", metric_values)"
   ]
  },
  {
   "cell_type": "markdown",
   "metadata": {},
   "source": [
    "# Save weights"
   ]
  },
  {
   "cell_type": "code",
   "execution_count": 34,
   "metadata": {
    "collapsed": true
   },
   "outputs": [],
   "source": [
    "import time\n",
    "import os\n",
    "\n",
    "now = time.strftime('%Y.%m.%d %H:%M:%S')\n",
    "weights_directory = \"weights/\" + now + \"/\"\n",
    "if not os.path.exists(weights_directory):\n",
    "    os.makedirs(weights_directory)\n",
    "\n",
    "siamese_net.save_weights(weights_directory + \"siamese_weights\")\n",
    "convnet.save_weights(weights_directory + \"convnet_weights\")"
   ]
  },
  {
   "cell_type": "markdown",
   "metadata": {},
   "source": [
    "# Evaluate on test set"
   ]
  },
  {
   "cell_type": "code",
   "execution_count": 108,
   "metadata": {
    "collapsed": true
   },
   "outputs": [],
   "source": [
    "def remove_duplicates(li):\n",
    "    my_set = set()\n",
    "    filtered = []\n",
    "    for e in li:\n",
    "        if e not in my_set:\n",
    "            filtered.append(e)\n",
    "            my_set.add(e)\n",
    "    return filtered\n",
    "\n",
    "def classify(image_embedding, embedding_list, id_list, num_categories=5, threshold=20):\n",
    "    image_embedding = np.expand_dims(image_embedding, axis=0)\n",
    "    stacked_image = np.repeat(image_embedding,len(embedding_list),axis=0)\n",
    "    square_differences = (stacked_image - embedding_list)**2\n",
    "    scores = np.sum(square_differences, axis=1)    \n",
    "    scores = np.append(scores, [threshold], axis=0)\n",
    "    id_list = np.append(id_list, ['new_whale'], axis=0)\n",
    "    \n",
    "    sorted_ids = [x for (y,x) in sorted(\n",
    "        zip(scores,id_list), key=lambda pair: pair[0])]\n",
    "    \n",
    "    return ' '.join(remove_duplicates(sorted_ids)[0:num_categories])   "
   ]
  },
  {
   "cell_type": "code",
   "execution_count": 104,
   "metadata": {},
   "outputs": [],
   "source": [
    "train_image_list = training_data['image_array']\n",
    "train_id_list = training_data['Id']\n",
    "test_image_list = test_data['image_array']\n",
    "test_id_list = test_data['Id']\n",
    "\n",
    "train_embedding_list = convnet.predict(np.stack(train_image_list))\n",
    "test_embedding_list = convnet.predict(np.stack(test_image_list))"
   ]
  },
  {
   "cell_type": "code",
   "execution_count": 105,
   "metadata": {
    "collapsed": true
   },
   "outputs": [],
   "source": [
    "test_prediction_list = [classify(image_embedding, train_embedding_list, train_id_list) for image_embedding in test_embedding_list]"
   ]
  },
  {
   "cell_type": "code",
   "execution_count": 106,
   "metadata": {
    "collapsed": true
   },
   "outputs": [],
   "source": [
    "test_evaluation = pd.DataFrame({'Id': test_id_list, 'predicted': test_prediction_list}, columns=['Id', 'predicted'])"
   ]
  },
  {
   "cell_type": "code",
   "execution_count": 107,
   "metadata": {},
   "outputs": [
    {
     "name": "stdout",
     "output_type": "stream",
     "text": [
      "Test set score: 0.221116751269\n"
     ]
    }
   ],
   "source": [
    "def get_score(id, prediction):\n",
    "    prediction_list = prediction.split(\" \")\n",
    "    if (prediction_list[0] == id):\n",
    "        return 1\n",
    "    if (prediction_list[1] == id):\n",
    "        return 0.8\n",
    "    if (prediction_list[2] == id):\n",
    "        return 0.6\n",
    "    if (prediction_list[3] == id):\n",
    "        return 0.4\n",
    "    if (prediction_list[4] == id):\n",
    "        return 0.2\n",
    "    return 0\n",
    "\n",
    "scores = [get_score(test_id_list[i],test_prediction_list[i]) for i in range(len(test_id_list))]\n",
    "\n",
    "print(\"Test set score:\", np.mean(scores))"
   ]
  },
  {
   "cell_type": "markdown",
   "metadata": {},
   "source": [
    "# Submission"
   ]
  },
  {
   "cell_type": "code",
   "execution_count": 114,
   "metadata": {
    "collapsed": true
   },
   "outputs": [],
   "source": [
    "embedding_list = convnet.predict(np.stack(image_list))"
   ]
  },
  {
   "cell_type": "code",
   "execution_count": 115,
   "metadata": {},
   "outputs": [],
   "source": [
    "from PIL import Image\n",
    "\n",
    "def get_sub_image(file, shape=(resize_shape[0],resize_shape[1])):\n",
    "    image = Image.open('data/test/' + file)\n",
    "    image = image.resize(shape)\n",
    "    image = np.array(image)\n",
    "    if len(image.shape) == 2:\n",
    "        image = np.stack([image]*3,axis=2) \n",
    "    return image\n",
    "\n",
    "\n",
    "sample_sub = pd.read_csv(\"data/sample_submission.csv\")\n",
    "submission_file_list = sample_sub['Image']\n",
    "submission_image_list = [get_sub_image(f) for f in submission_file_list]"
   ]
  },
  {
   "cell_type": "code",
   "execution_count": 116,
   "metadata": {
    "collapsed": true
   },
   "outputs": [],
   "source": [
    "submission_embedding_list = convnet.predict(np.stack(submission_image_list))"
   ]
  },
  {
   "cell_type": "code",
   "execution_count": 122,
   "metadata": {},
   "outputs": [
    {
     "name": "stdout",
     "output_type": "stream",
     "text": [
      "calculating for threshold: 2000\n",
      "calculating for threshold: 4000\n",
      "calculating for threshold: 6000\n"
     ]
    }
   ],
   "source": [
    "for i in range(1,11):\n",
    "    threshold = 10 * i\n",
    "    print(\"calculating for threshold: \" + str(threshold))\n",
    "\n",
    "    submission_prediction_list = [classify(image_embedding, embedding_list, id_list, threshold=threshold) for image_embedding in submission_embedding_list]\n",
    "    submission = pd.DataFrame({'Image': submission_file_list, 'Id': submission_prediction_list}, columns=['Image','Id'])\n",
    "    results_directory = \"results/\"\n",
    "    if not os.path.exists(results_directory):\n",
    "        os.makedirs(results_directory)\n",
    "    submission.to_csv(results_directory + \"submission\" + str(threshold) + \".csv\",index=False)"
   ]
  },
  {
   "cell_type": "markdown",
   "metadata": {},
   "source": [
    "# Visualization"
   ]
  },
  {
   "cell_type": "code",
   "execution_count": 53,
   "metadata": {
    "collapsed": true
   },
   "outputs": [],
   "source": [
    "from sklearn.decomposition import PCA\n",
    "import matplotlib.pyplot as plt"
   ]
  },
  {
   "cell_type": "code",
   "execution_count": 43,
   "metadata": {
    "collapsed": true
   },
   "outputs": [],
   "source": [
    "pca = PCA(n_components=2)"
   ]
  },
  {
   "cell_type": "code",
   "execution_count": 44,
   "metadata": {
    "collapsed": true
   },
   "outputs": [],
   "source": [
    "def color_from_string(s, vis_ids):\n",
    "    if s == vis_ids[0]:\n",
    "        return 'red'\n",
    "    if s == vis_ids[1]:\n",
    "        return 'blue'\n",
    "    if s == vis_ids[2]:\n",
    "        return 'green'"
   ]
  },
  {
   "cell_type": "code",
   "execution_count": 45,
   "metadata": {
    "collapsed": true
   },
   "outputs": [],
   "source": [
    "vis_ids = [x[0] for x in training_counts.most_common(4)][1:4]\n",
    "vis_filter = id_list.apply(lambda x: x in vis_ids)\n",
    "vis_embedding_list = embedding_list[vis_filter]\n",
    "vis_id_list = id_list[vis_filter]\n",
    "vis_colour_list = [color_from_string(s, vis_ids) for s in vis_id_list]"
   ]
  },
  {
   "cell_type": "code",
   "execution_count": 46,
   "metadata": {
    "collapsed": true
   },
   "outputs": [],
   "source": [
    "X_r = pca.fit(vis_embedding_list).transform(vis_embedding_list)"
   ]
  },
  {
   "cell_type": "code",
   "execution_count": 47,
   "metadata": {},
   "outputs": [],
   "source": [
    "plt.figure(figsize=(30,20))\n",
    "plt.title(\"Visualizing the embedding of 3 whale categories\", fontsize=50)\n",
    "for i, c in zip(range(len(vis_id_list)), vis_colour_list):\n",
    "                 plt.scatter(X_r[i, 0], X_r[i, 1], color=c, s=150)\n",
    "plt.show()"
   ]
  },
  {
   "cell_type": "code",
   "execution_count": 48,
   "metadata": {},
   "outputs": [
    {
     "data": {
      "image/png": "[encoded data removed]",
      "text/plain": [
       "<matplotlib.figure.Figure at 0x7f478c1129e8>"
      ]
     },
     "metadata": {},
     "output_type": "display_data"
    }
   ],
   "source": []
  }
 ],
 "metadata": {
  "anaconda-cloud": {},
  "kernelspec": {
   "display_name": "Python 3",
   "language": "python",
   "name": "python3"
  },
  "language_info": {
   "codemirror_mode": {
    "name": "ipython",
    "version": 3
   },
   "file_extension": ".py",
   "mimetype": "text/x-python",
   "name": "python",
   "nbconvert_exporter": "python",
   "pygments_lexer": "ipython3",
   "version": "3.6.3"
  }
 },
 "nbformat": 4,
 "nbformat_minor": 2
}
