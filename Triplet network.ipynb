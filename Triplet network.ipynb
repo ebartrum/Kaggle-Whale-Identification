{
 "cells": [
  {
   "cell_type": "code",
   "execution_count": 1,
   "metadata": {},
   "outputs": [
    {
     "name": "stderr",
     "output_type": "stream",
     "text": [
      "/home/edward/anaconda3/lib/python3.6/site-packages/h5py/__init__.py:34: FutureWarning: Conversion of the second argument of issubdtype from `float` to `np.floating` is deprecated. In future, it will be treated as `np.float64 == np.dtype(float).type`.\n",
      "  from ._conv import register_converters as _register_converters\n",
      "Using TensorFlow backend.\n"
     ]
    }
   ],
   "source": [
    "import pandas as pd\n",
    "import numpy as np\n",
    "import matplotlib.pyplot as plt\n",
    "from data_augmentation import random_transform\n",
    "\n",
    "\n",
    "from keras.models import Sequential, Model\n",
    "from keras.optimizers import Adam, SGD\n",
    "from keras import applications\n",
    "from keras.layers import Dense, Conv2D, MaxPooling2D, Reshape, Flatten, Input, merge, subtract, Lambda, Dropout\n",
    "from keras import backend as K"
   ]
  },
  {
   "cell_type": "code",
   "execution_count": 2,
   "metadata": {
    "collapsed": true
   },
   "outputs": [],
   "source": [
    "resize_shape = (256, 256, 3)"
   ]
  },
  {
   "cell_type": "code",
   "execution_count": 3,
   "metadata": {
    "collapsed": true
   },
   "outputs": [],
   "source": [
    "data = pd.read_csv(\"data/train.csv\")\n",
    "\n",
    "# Take this out later\n",
    "data = data.head(500)"
   ]
  },
  {
   "cell_type": "markdown",
   "metadata": {},
   "source": [
    "# Shuffle data"
   ]
  },
  {
   "cell_type": "code",
   "execution_count": 4,
   "metadata": {
    "collapsed": true
   },
   "outputs": [],
   "source": [
    "from sklearn.utils import shuffle\n",
    "data = shuffle(data)"
   ]
  },
  {
   "cell_type": "code",
   "execution_count": 5,
   "metadata": {
    "collapsed": true
   },
   "outputs": [],
   "source": [
    "#For now, we remove new_whale\n",
    "# data = data[data['Id'] != 'new_whale'].reset_index(drop=True)"
   ]
  },
  {
   "cell_type": "code",
   "execution_count": 6,
   "metadata": {},
   "outputs": [
    {
     "data": {
      "text/plain": [
       "500"
      ]
     },
     "execution_count": 6,
     "metadata": {},
     "output_type": "execute_result"
    }
   ],
   "source": [
    "len(data)"
   ]
  },
  {
   "cell_type": "markdown",
   "metadata": {},
   "source": [
    "# Look at example "
   ]
  },
  {
   "cell_type": "code",
   "execution_count": 7,
   "metadata": {
    "collapsed": true
   },
   "outputs": [],
   "source": [
    "# data.head(10)"
   ]
  },
  {
   "cell_type": "code",
   "execution_count": 8,
   "metadata": {
    "collapsed": true
   },
   "outputs": [],
   "source": [
    "from PIL import Image\n",
    "image = Image.open('data/train/00022e1a.jpg')"
   ]
  },
  {
   "cell_type": "code",
   "execution_count": 9,
   "metadata": {},
   "outputs": [
    {
     "data": {
      "text/plain": [
       "(500, 699)"
      ]
     },
     "execution_count": 9,
     "metadata": {},
     "output_type": "execute_result"
    }
   ],
   "source": [
    "np.array(image).shape"
   ]
  },
  {
   "cell_type": "code",
   "execution_count": 10,
   "metadata": {
    "collapsed": true
   },
   "outputs": [],
   "source": [
    "# plt.imshow(image)\n",
    "# plt.show()"
   ]
  },
  {
   "cell_type": "code",
   "execution_count": 11,
   "metadata": {},
   "outputs": [
    {
     "data": {
      "text/plain": [
       "(500, 699)"
      ]
     },
     "execution_count": 11,
     "metadata": {},
     "output_type": "execute_result"
    }
   ],
   "source": [
    "np.array(image).shape"
   ]
  },
  {
   "cell_type": "code",
   "execution_count": 12,
   "metadata": {
    "collapsed": true
   },
   "outputs": [],
   "source": [
    "new_image = np.stack([image]*3,axis=2)"
   ]
  },
  {
   "cell_type": "code",
   "execution_count": 13,
   "metadata": {},
   "outputs": [
    {
     "data": {
      "text/plain": [
       "(500, 699, 3)"
      ]
     },
     "execution_count": 13,
     "metadata": {},
     "output_type": "execute_result"
    }
   ],
   "source": [
    "np.array(new_image).shape"
   ]
  },
  {
   "cell_type": "code",
   "execution_count": 14,
   "metadata": {
    "collapsed": true
   },
   "outputs": [],
   "source": [
    "# gray = np.mean(image, -1)"
   ]
  },
  {
   "cell_type": "code",
   "execution_count": 15,
   "metadata": {
    "collapsed": true
   },
   "outputs": [],
   "source": [
    "# gray.shape"
   ]
  },
  {
   "cell_type": "code",
   "execution_count": 16,
   "metadata": {
    "collapsed": true
   },
   "outputs": [],
   "source": [
    "# plt.imshow(random_transform(gray),cmap='gray')\n",
    "# plt.show()"
   ]
  },
  {
   "cell_type": "markdown",
   "metadata": {
    "collapsed": true
   },
   "source": [
    "# All images (if small) can be held in memory."
   ]
  },
  {
   "cell_type": "code",
   "execution_count": 17,
   "metadata": {
    "collapsed": true
   },
   "outputs": [],
   "source": [
    "file_list = data['Image']\n",
    "id_list = data['Id']"
   ]
  },
  {
   "cell_type": "code",
   "execution_count": 18,
   "metadata": {
    "collapsed": true
   },
   "outputs": [],
   "source": [
    "def get_image(file, shape=(resize_shape[0],resize_shape[1])):\n",
    "    image = Image.open('data/train/' + file)\n",
    "    image = image.resize(shape)\n",
    "    image = np.array(image)\n",
    "    if len(image.shape) == 2:\n",
    "        image = np.stack([image]*3,axis=2) \n",
    "    return image"
   ]
  },
  {
   "cell_type": "code",
   "execution_count": 19,
   "metadata": {
    "collapsed": true
   },
   "outputs": [],
   "source": [
    "image_list = [get_image(f) for f in file_list]"
   ]
  },
  {
   "cell_type": "code",
   "execution_count": 20,
   "metadata": {
    "collapsed": true
   },
   "outputs": [],
   "source": [
    "length_list = [len(image.shape) for image in image_list]"
   ]
  },
  {
   "cell_type": "code",
   "execution_count": 21,
   "metadata": {},
   "outputs": [
    {
     "data": {
      "text/plain": [
       "'00022e1a.jpg'"
      ]
     },
     "execution_count": 21,
     "metadata": {},
     "output_type": "execute_result"
    }
   ],
   "source": [
    "file_list[0]"
   ]
  },
  {
   "cell_type": "code",
   "execution_count": 22,
   "metadata": {
    "collapsed": true
   },
   "outputs": [],
   "source": [
    "data['image_array'] = image_list"
   ]
  },
  {
   "cell_type": "code",
   "execution_count": 23,
   "metadata": {},
   "outputs": [
    {
     "data": {
      "text/html": [
       "<div>\n",
       "<style>\n",
       "    .dataframe thead tr:only-child th {\n",
       "        text-align: right;\n",
       "    }\n",
       "\n",
       "    .dataframe thead th {\n",
       "        text-align: left;\n",
       "    }\n",
       "\n",
       "    .dataframe tbody tr th {\n",
       "        vertical-align: top;\n",
       "    }\n",
       "</style>\n",
       "<table border=\"1\" class=\"dataframe\">\n",
       "  <thead>\n",
       "    <tr style=\"text-align: right;\">\n",
       "      <th></th>\n",
       "      <th>Image</th>\n",
       "      <th>Id</th>\n",
       "      <th>image_array</th>\n",
       "    </tr>\n",
       "  </thead>\n",
       "  <tbody>\n",
       "    <tr>\n",
       "      <th>233</th>\n",
       "      <td>05859f6e.jpg</td>\n",
       "      <td>w_5a29f9d</td>\n",
       "      <td>[[[255, 255, 255], [255, 255, 255], [255, 255,...</td>\n",
       "    </tr>\n",
       "    <tr>\n",
       "      <th>486</th>\n",
       "      <td>0c09bf79.jpg</td>\n",
       "      <td>w_849b126</td>\n",
       "      <td>[[[255, 255, 255], [255, 255, 255], [255, 255,...</td>\n",
       "    </tr>\n",
       "    <tr>\n",
       "      <th>260</th>\n",
       "      <td>06256148.jpg</td>\n",
       "      <td>w_53859b2</td>\n",
       "      <td>[[[93, 107, 152], [93, 107, 152], [93, 108, 14...</td>\n",
       "    </tr>\n",
       "    <tr>\n",
       "      <th>330</th>\n",
       "      <td>07c2def7.jpg</td>\n",
       "      <td>w_b8f8e69</td>\n",
       "      <td>[[[197, 197, 197], [204, 204, 204], [198, 198,...</td>\n",
       "    </tr>\n",
       "  </tbody>\n",
       "</table>\n",
       "</div>"
      ],
      "text/plain": [
       "            Image         Id  \\\n",
       "233  05859f6e.jpg  w_5a29f9d   \n",
       "486  0c09bf79.jpg  w_849b126   \n",
       "260  06256148.jpg  w_53859b2   \n",
       "330  07c2def7.jpg  w_b8f8e69   \n",
       "\n",
       "                                           image_array  \n",
       "233  [[[255, 255, 255], [255, 255, 255], [255, 255,...  \n",
       "486  [[[255, 255, 255], [255, 255, 255], [255, 255,...  \n",
       "260  [[[93, 107, 152], [93, 107, 152], [93, 108, 14...  \n",
       "330  [[[197, 197, 197], [204, 204, 204], [198, 198,...  "
      ]
     },
     "execution_count": 23,
     "metadata": {},
     "output_type": "execute_result"
    }
   ],
   "source": [
    "data.head(4)"
   ]
  },
  {
   "cell_type": "markdown",
   "metadata": {},
   "source": [
    "# Create Test and Train"
   ]
  },
  {
   "cell_type": "code",
   "execution_count": 24,
   "metadata": {
    "collapsed": true
   },
   "outputs": [],
   "source": [
    "\n",
    "\n",
    "test_proportion = 0.8\n",
    "cutoff_index = int(len(data) * test_proportion)\n",
    "\n",
    "training_data = data.iloc[:cutoff_index].reset_index(drop=True)\n",
    "test_data = data.iloc[cutoff_index:].reset_index(drop=True)"
   ]
  },
  {
   "cell_type": "code",
   "execution_count": 25,
   "metadata": {
    "collapsed": true
   },
   "outputs": [],
   "source": [
    "from collections import Counter\n",
    "\n",
    "training_counts = Counter(training_data['Id'])\n",
    "training_data['Id_count'] = training_data.apply(lambda x: training_counts.get(x[\"Id\"]), axis=1)\n",
    "\n",
    "test_counts = Counter(test_data['Id'])\n",
    "test_data['Id_count'] = test_data.apply(lambda x: test_counts.get(x[\"Id\"]), axis=1)"
   ]
  },
  {
   "cell_type": "code",
   "execution_count": 26,
   "metadata": {
    "collapsed": true
   },
   "outputs": [],
   "source": [
    "from random import randint"
   ]
  },
  {
   "cell_type": "markdown",
   "metadata": {},
   "source": [
    "# Create generator"
   ]
  },
  {
   "cell_type": "code",
   "execution_count": 27,
   "metadata": {
    "collapsed": true
   },
   "outputs": [],
   "source": [
    "def get_triple(len_data, data_images, data_ids, anchor_condition, augment=True):\n",
    "    \n",
    "    anchor_index = np.random.choice(anchor_condition.index[anchor_condition])    \n",
    "    anchor_image = data_images[anchor_index]\n",
    "    anchor_id = data_ids[anchor_index]   \n",
    "\n",
    "    same_id = anchor_id    \n",
    "    same_id_indices = (data_ids == anchor_id)\n",
    "    same_id_index = np.random.choice(same_id_indices.index[same_id_indices])\n",
    "    same_image = data_images[same_id_index]\n",
    "    \n",
    "    different_id = anchor_id\n",
    "    \n",
    "    while (anchor_id == different_id):\n",
    "        different_index = randint(0,len_data-1)\n",
    "        different_id = data_ids[different_index]\n",
    "    \n",
    "    different_image = data_images[different_index]\n",
    "    \n",
    "    if augment:\n",
    "        anchor_image = random_transform(anchor_image)\n",
    "        same_image = random_transform(same_image)\n",
    "        different_image = random_transform(different_image)\n",
    "    return anchor_image, same_image, different_image"
   ]
  },
  {
   "cell_type": "code",
   "execution_count": 28,
   "metadata": {
    "collapsed": true
   },
   "outputs": [],
   "source": [
    "def triple_generator(batch_size, data, resize_shape, augment=True):\n",
    "    \n",
    "    len_data = len(data)\n",
    "    data_images = np.stack(data['image_array'])\n",
    "    data_ids = data['Id']\n",
    "    \n",
    "    anchor_condition = (data['Id_count'] > 1) & (data_ids != 'new_whale')\n",
    "        \n",
    "    \n",
    "    while True:\n",
    "        anchor_batch = np.zeros((batch_size, resize_shape[0],resize_shape[1],resize_shape[2]))\n",
    "        same_image_batch = np.zeros((batch_size, resize_shape[0],resize_shape[1],resize_shape[2]))\n",
    "        different_image_batch = np.zeros((batch_size, resize_shape[0],resize_shape[1],resize_shape[2]))\n",
    "        for i in range(batch_size):\n",
    "#             print(\"assigning next images...\")\n",
    "            anchor_batch[i,:,:,:], same_image_batch[i,:,:,:], different_image_batch[i,:,:,:] = get_triple(\n",
    "                    len_data, data_images, data_ids, anchor_condition, augment)\n",
    "\n",
    "        batches = [anchor_batch, same_image_batch, different_image_batch]\n",
    "        yield batches, np.ones(batch_size)"
   ]
  },
  {
   "cell_type": "code",
   "execution_count": 29,
   "metadata": {
    "collapsed": true
   },
   "outputs": [],
   "source": [
    "# training_data_generator = triple_generator(16, training_data, resize_shape)"
   ]
  },
  {
   "cell_type": "code",
   "execution_count": 30,
   "metadata": {
    "collapsed": true
   },
   "outputs": [],
   "source": [
    "# len_data = len(training_data)\n",
    "# data_images = np.stack(training_data['image_array'])\n",
    "# data_ids = training_data['Id']\n",
    "# anchor_condition = (training_data['Id_count'] > 1) & (data_ids != 'new_whale')"
   ]
  },
  {
   "cell_type": "code",
   "execution_count": 31,
   "metadata": {
    "collapsed": true
   },
   "outputs": [],
   "source": [
    "# get_triple(len_data, data_images, data_ids, anchor_condition)"
   ]
  },
  {
   "cell_type": "code",
   "execution_count": 32,
   "metadata": {
    "collapsed": true
   },
   "outputs": [],
   "source": [
    "# next(training_data_generator)"
   ]
  },
  {
   "cell_type": "markdown",
   "metadata": {
    "collapsed": true
   },
   "source": [
    "# Create the network"
   ]
  },
  {
   "cell_type": "code",
   "execution_count": 33,
   "metadata": {
    "collapsed": true
   },
   "outputs": [],
   "source": [
    "input_shape = resize_shape\n",
    "\n",
    "anchor_input = Input(input_shape)\n",
    "same_category_input = Input(input_shape)\n",
    "different_category_input = Input(input_shape)"
   ]
  },
  {
   "cell_type": "code",
   "execution_count": 34,
   "metadata": {},
   "outputs": [
    {
     "name": "stderr",
     "output_type": "stream",
     "text": [
      "/home/edward/anaconda3/lib/python3.6/site-packages/ipykernel_launcher.py:58: UserWarning: The `merge` function is deprecated and will be removed after 08/2017. Use instead layers from `keras.layers.merge`, e.g. `add`, `concatenate`, etc.\n",
      "/home/edward/anaconda3/lib/python3.6/site-packages/keras/legacy/layers.py:464: UserWarning: The `Merge` layer is deprecated and will be removed after 08/2017. Use instead layers from `keras.layers.merge`, e.g. `add`, `concatenate`, etc.\n",
      "  name=name)\n",
      "/home/edward/anaconda3/lib/python3.6/site-packages/ipykernel_launcher.py:60: UserWarning: Update your `Model` call to the Keras 2 API: `Model(inputs=[<tf.Tenso..., outputs=Tensor(\"lo...)`\n"
     ]
    }
   ],
   "source": [
    "def bpr_triplet_loss(X):    \n",
    "    margin = 3\n",
    "    \n",
    "    anchor_embedding, same_embedding, different_embedding = X\n",
    "    \n",
    "    positive_distance = K.square(anchor_embedding - same_embedding)\n",
    "    negative_distance = K.square(anchor_embedding - different_embedding)\n",
    "    \n",
    "    positive_distance = K.mean(positive_distance, axis=-1, keepdims=True)\n",
    "    negative_distance = K.mean(negative_distance, axis=-1, keepdims=True)\n",
    "    \n",
    "    loss = K.maximum(0.0, margin + positive_distance - negative_distance)\n",
    "   \n",
    "    return K.mean(loss)\n",
    "\n",
    "def triplet_loss(inputs, dist='sqeuclidean', margin='maxplus', alpha=0.1):\n",
    "    anchor, positive, negative = inputs\n",
    "    positive_distance = K.square(anchor - positive)\n",
    "    negative_distance = K.square(anchor - negative)\n",
    "    if dist == 'euclidean':\n",
    "        positive_distance = K.sqrt(K.sum(positive_distance, axis=-1, keepdims=True))\n",
    "        negative_distance = K.sqrt(K.sum(negative_distance, axis=-1, keepdims=True))\n",
    "    elif dist == 'sqeuclidean':\n",
    "        positive_distance = K.mean(positive_distance, axis=-1, keepdims=True)\n",
    "        negative_distance = K.mean(negative_distance, axis=-1, keepdims=True)\n",
    "    loss = positive_distance - negative_distance\n",
    "    if margin == 'maxplus':\n",
    "        loss = K.maximum(0.0, alpha + loss)\n",
    "    elif margin == 'softplus':\n",
    "        loss = K.log(alpha + K.exp(loss))\n",
    "    return K.mean(loss)    \n",
    "    \n",
    "convnet = Sequential()\n",
    "convnet.add(Conv2D(filters=8, input_shape=(\n",
    "    resize_shape[0],resize_shape[1],resize_shape[2],), kernel_size=5, activation='relu',name='conv_1'))\n",
    "convnet.add(MaxPooling2D(pool_size=2,name='pool_1'))\n",
    "convnet.add(Conv2D(filters=12, kernel_size=3, activation='relu',name='conv_2'))\n",
    "convnet.add(MaxPooling2D(pool_size=2,name='pool_2'))\n",
    "convnet.add(Conv2D(filters=16, kernel_size=3, activation='relu',name='conv_3'))\n",
    "convnet.add(MaxPooling2D(pool_size=2,name='pool_3'))\n",
    "convnet.add(Conv2D(filters=20, kernel_size=3, activation='relu',name='conv_4'))\n",
    "convnet.add(Conv2D(filters=32, kernel_size=3, activation='relu',name='conv_5'))\n",
    "convnet.add(MaxPooling2D(pool_size=2,name='pool_4'))\n",
    "convnet.add(Flatten())\n",
    "convnet.add(Dense(units=128, activation='relu',name='dense_1'))\n",
    "convnet.add(Dense(units=64, activation='relu',name='dense_2'))\n",
    "# convnet.add(Dense(units=64, activation='linear',name='dense_3'))\n",
    "# convnet.add(Lambda(lambda x: K.l2_normalize(x,axis=1), name='normalize'))\n",
    "\n",
    "anchor = convnet(anchor_input)\n",
    "same = convnet(same_category_input)\n",
    "different = convnet(different_category_input)\n",
    "\n",
    "loss = merge(\n",
    "        [anchor, same, different],\n",
    "        mode=bpr_triplet_loss,\n",
    "        name='loss',\n",
    "        output_shape=(1, ))\n",
    "    \n",
    "siamese_net = Model(input=[anchor_input,same_category_input, different_category_input],output=loss)"
   ]
  },
  {
   "cell_type": "code",
   "execution_count": 35,
   "metadata": {
    "collapsed": true
   },
   "outputs": [],
   "source": [
    "def identity_loss(y_true, y_pred):\n",
    "    return K.mean(y_pred - 0 * y_true)"
   ]
  },
  {
   "cell_type": "code",
   "execution_count": 36,
   "metadata": {
    "collapsed": true
   },
   "outputs": [],
   "source": [
    "# LEARNING_RATE = 0.1\n",
    "# siamese_net.compile(loss=identity_loss,optimizer=SGD(LEARNING_RATE))\n",
    "siamese_net.compile(loss=identity_loss,optimizer=Adam())"
   ]
  },
  {
   "cell_type": "markdown",
   "metadata": {},
   "source": [
    "# Run the network"
   ]
  },
  {
   "cell_type": "code",
   "execution_count": 37,
   "metadata": {
    "collapsed": true
   },
   "outputs": [],
   "source": [
    "from keras.optimizers import Adam, SGD"
   ]
  },
  {
   "cell_type": "code",
   "execution_count": 38,
   "metadata": {
    "collapsed": true
   },
   "outputs": [],
   "source": [
    "BATCH_SIZE = 16\n",
    "training_data_generator = triple_generator(BATCH_SIZE, training_data, resize_shape, augment=False)"
   ]
  },
  {
   "cell_type": "code",
   "execution_count": 39,
   "metadata": {},
   "outputs": [
    {
     "name": "stderr",
     "output_type": "stream",
     "text": [
      "/home/edward/anaconda3/lib/python3.6/site-packages/keras/engine/training.py:2095: UserWarning: Using a generator with `use_multiprocessing=True` and multiple workers may duplicate your data. Please consider using the`keras.utils.Sequence class.\n",
      "  UserWarning('Using a generator with `use_multiprocessing=True`'\n"
     ]
    },
    {
     "name": "stdout",
     "output_type": "stream",
     "text": [
      "Epoch 1/3\n",
      "100/100 [==============================] - 37s 373ms/step - loss: 0.6288\n",
      "Epoch 2/3\n",
      "100/100 [==============================] - 34s 339ms/step - loss: 0.2717\n",
      "Epoch 3/3\n",
      "100/100 [==============================] - 34s 343ms/step - loss: 0.1171\n"
     ]
    }
   ],
   "source": [
    "history = siamese_net.fit_generator(training_data_generator,\n",
    "                                    verbose=1, \n",
    "                                    epochs=3, \n",
    "                                    steps_per_epoch=100,\n",
    "                                    workers=4,\n",
    "                                    use_multiprocessing=True)"
   ]
  },
  {
   "cell_type": "markdown",
   "metadata": {},
   "source": [
    "# Loss function "
   ]
  },
  {
   "cell_type": "code",
   "execution_count": 40,
   "metadata": {},
   "outputs": [
    {
     "data": {
      "image/png": "[encoded data removed]",
      "text/plain": [
       "<matplotlib.figure.Figure at 0x7febcc3f9978>"
      ]
     },
     "metadata": {},
     "output_type": "display_data"
    }
   ],
   "source": [
    "plt.plot(history.history['loss'])\n",
    "plt.title(\"Loss function\")\n",
    "plt.xlabel(\"epochs\")\n",
    "plt.show()"
   ]
  },
  {
   "cell_type": "markdown",
   "metadata": {},
   "source": [
    "# Evaluation "
   ]
  },
  {
   "cell_type": "code",
   "execution_count": 41,
   "metadata": {},
   "outputs": [
    {
     "name": "stdout",
     "output_type": "stream",
     "text": [
      "Metric names ['loss']\n",
      "Metric values 1.3475242584943772\n"
     ]
    }
   ],
   "source": [
    "evaluation_data_generator = triple_generator(BATCH_SIZE, test_data, resize_shape, augment=False)\n",
    "evaluation_steps = 20\n",
    "metric_names = siamese_net.metrics_names\n",
    "metric_values = siamese_net.evaluate_generator(evaluation_data_generator, steps=evaluation_steps)\n",
    "print(\"Metric names\", metric_names)\n",
    "print(\"Metric values\", metric_values)"
   ]
  },
  {
   "cell_type": "markdown",
   "metadata": {},
   "source": [
    "# Save weights"
   ]
  },
  {
   "cell_type": "code",
   "execution_count": 42,
   "metadata": {
    "collapsed": true
   },
   "outputs": [],
   "source": [
    "import time\n",
    "import os\n",
    "\n",
    "now = time.strftime('%Y.%m.%d %H:%M:%S')\n",
    "weights_directory = \"weights/\" + now + \"/\"\n",
    "if not os.path.exists(weights_directory):\n",
    "    os.makedirs(weights_directory)\n",
    "\n",
    "\n",
    "siamese_net.save_weights(weights_directory + \"siamese_weights\")\n",
    "convnet.save_weights(weights_directory + \"convnet_weights\")"
   ]
  },
  {
   "cell_type": "markdown",
   "metadata": {},
   "source": [
    "# Sub"
   ]
  },
  {
   "cell_type": "code",
   "execution_count": 43,
   "metadata": {
    "collapsed": true
   },
   "outputs": [],
   "source": [
    "# data = pd.read_csv(\"data/train.csv\")\n",
    "# file_list = data['Image']\n",
    "# image_list = [get_image(f) for f in file_list]"
   ]
  },
  {
   "cell_type": "code",
   "execution_count": 44,
   "metadata": {
    "collapsed": true
   },
   "outputs": [],
   "source": [
    "# id_list = data['Id']"
   ]
  },
  {
   "cell_type": "code",
   "execution_count": 45,
   "metadata": {
    "collapsed": true
   },
   "outputs": [],
   "source": [
    "# Will want to change this to say trained embedding list. Or trained embeddings.\n",
    "\n",
    "embedding_list = convnet.predict(np.stack(image_list))"
   ]
  },
  {
   "cell_type": "code",
   "execution_count": 46,
   "metadata": {},
   "outputs": [],
   "source": [
    "def get_sub_image(file, shape=(resize_shape[0],resize_shape[1])):\n",
    "    image = Image.open('data/test/' + file)\n",
    "    image = image.resize(shape)\n",
    "    image = np.array(image)\n",
    "    if len(image.shape) == 2:\n",
    "        image = np.stack([image]*3,axis=2) \n",
    "    return image\n",
    "\n",
    "\n",
    "sample_sub = pd.read_csv(\"data/sample_submission.csv\")\n",
    "\n",
    "\n",
    "#Comment out:\n",
    "sample_sub = sample_sub.head(200)\n",
    "\n",
    "\n",
    "\n",
    "\n",
    "\n",
    "submission_file_list = sample_sub['Image']\n",
    "submission_image_list = [get_sub_image(f) for f in submission_file_list]"
   ]
  },
  {
   "cell_type": "code",
   "execution_count": 47,
   "metadata": {},
   "outputs": [],
   "source": [
    "submission_embedding_list = convnet.predict(np.stack(submission_image_list))"
   ]
  },
  {
   "cell_type": "code",
   "execution_count": 48,
   "metadata": {
    "collapsed": true
   },
   "outputs": [],
   "source": [
    "def remove_duplicates(li):\n",
    "    my_set = set()\n",
    "    filtered = []\n",
    "    for e in li:\n",
    "        if e not in my_set:\n",
    "            filtered.append(e)\n",
    "            my_set.add(e)\n",
    "    return filtered\n",
    "\n",
    "\n",
    "def classify(image_embedding, embedding_list, id_list, num_categories=5):\n",
    "    image_embedding = np.expand_dims(image_embedding, axis=0)\n",
    "    stacked_image = np.repeat(image_embedding,len(embedding_list),axis=0)\n",
    "    square_differences = (stacked_image - embedding_list)**2\n",
    "    scores = np.sum(square_differences, axis=1)\n",
    "    \n",
    "    #Take out magic 3. Put in margin.\n",
    "    \n",
    "    scores = np.append(scores, [3], axis=0)\n",
    "    id_list = np.append(id_list, ['new_whale'], axis=0)\n",
    "    \n",
    "    sorted_ids = [x for (y,x) in sorted(\n",
    "        zip(scores,id_list), key=lambda pair: pair[0])]\n",
    "    \n",
    "    return ' '.join(remove_duplicates(sorted_ids)[0:num_categories])\n",
    "    "
   ]
  },
  {
   "cell_type": "code",
   "execution_count": 76,
   "metadata": {},
   "outputs": [
    {
     "data": {
      "text/plain": [
       "'new_whale w_44f66a7 w_b59c523 w_290f82b w_dbda0d6'"
      ]
     },
     "execution_count": 76,
     "metadata": {},
     "output_type": "execute_result"
    }
   ],
   "source": [
    "classify(submission_embedding_list[7], embedding_list, id_list)"
   ]
  },
  {
   "cell_type": "code",
   "execution_count": 50,
   "metadata": {},
   "outputs": [
    {
     "data": {
      "text/html": [
       "<div>\n",
       "<style>\n",
       "    .dataframe thead tr:only-child th {\n",
       "        text-align: right;\n",
       "    }\n",
       "\n",
       "    .dataframe thead th {\n",
       "        text-align: left;\n",
       "    }\n",
       "\n",
       "    .dataframe tbody tr th {\n",
       "        vertical-align: top;\n",
       "    }\n",
       "</style>\n",
       "<table border=\"1\" class=\"dataframe\">\n",
       "  <thead>\n",
       "    <tr style=\"text-align: right;\">\n",
       "      <th></th>\n",
       "      <th>Image</th>\n",
       "      <th>Id</th>\n",
       "      <th>image_array</th>\n",
       "    </tr>\n",
       "  </thead>\n",
       "  <tbody>\n",
       "    <tr>\n",
       "      <th>233</th>\n",
       "      <td>05859f6e.jpg</td>\n",
       "      <td>w_5a29f9d</td>\n",
       "      <td>[[[255, 255, 255], [255, 255, 255], [255, 255,...</td>\n",
       "    </tr>\n",
       "    <tr>\n",
       "      <th>486</th>\n",
       "      <td>0c09bf79.jpg</td>\n",
       "      <td>w_849b126</td>\n",
       "      <td>[[[255, 255, 255], [255, 255, 255], [255, 255,...</td>\n",
       "    </tr>\n",
       "    <tr>\n",
       "      <th>260</th>\n",
       "      <td>06256148.jpg</td>\n",
       "      <td>w_53859b2</td>\n",
       "      <td>[[[93, 107, 152], [93, 107, 152], [93, 108, 14...</td>\n",
       "    </tr>\n",
       "    <tr>\n",
       "      <th>330</th>\n",
       "      <td>07c2def7.jpg</td>\n",
       "      <td>w_b8f8e69</td>\n",
       "      <td>[[[197, 197, 197], [204, 204, 204], [198, 198,...</td>\n",
       "    </tr>\n",
       "    <tr>\n",
       "      <th>63</th>\n",
       "      <td>019cd867.jpg</td>\n",
       "      <td>w_0ead9d7</td>\n",
       "      <td>[[[32, 32, 32], [32, 32, 32], [36, 36, 36], [3...</td>\n",
       "    </tr>\n",
       "    <tr>\n",
       "      <th>201</th>\n",
       "      <td>04dd6cc6.jpg</td>\n",
       "      <td>w_3197568</td>\n",
       "      <td>[[[252, 252, 252], [252, 252, 252], [255, 255,...</td>\n",
       "    </tr>\n",
       "    <tr>\n",
       "      <th>104</th>\n",
       "      <td>02916b71.jpg</td>\n",
       "      <td>w_73d5489</td>\n",
       "      <td>[[[55, 85, 109], [49, 79, 103], [59, 89, 113],...</td>\n",
       "    </tr>\n",
       "    <tr>\n",
       "      <th>102</th>\n",
       "      <td>02715625.jpg</td>\n",
       "      <td>new_whale</td>\n",
       "      <td>[[[131, 131, 131], [131, 131, 131], [131, 131,...</td>\n",
       "    </tr>\n",
       "    <tr>\n",
       "      <th>6</th>\n",
       "      <td>0026a8ab.jpg</td>\n",
       "      <td>w_eaad6a8</td>\n",
       "      <td>[[[204, 204, 204], [204, 204, 204], [204, 204,...</td>\n",
       "    </tr>\n",
       "    <tr>\n",
       "      <th>155</th>\n",
       "      <td>03f8cf5a.jpg</td>\n",
       "      <td>w_b8f8e69</td>\n",
       "      <td>[[[216, 216, 216], [216, 216, 216], [216, 216,...</td>\n",
       "    </tr>\n",
       "  </tbody>\n",
       "</table>\n",
       "</div>"
      ],
      "text/plain": [
       "            Image         Id  \\\n",
       "233  05859f6e.jpg  w_5a29f9d   \n",
       "486  0c09bf79.jpg  w_849b126   \n",
       "260  06256148.jpg  w_53859b2   \n",
       "330  07c2def7.jpg  w_b8f8e69   \n",
       "63   019cd867.jpg  w_0ead9d7   \n",
       "201  04dd6cc6.jpg  w_3197568   \n",
       "104  02916b71.jpg  w_73d5489   \n",
       "102  02715625.jpg  new_whale   \n",
       "6    0026a8ab.jpg  w_eaad6a8   \n",
       "155  03f8cf5a.jpg  w_b8f8e69   \n",
       "\n",
       "                                           image_array  \n",
       "233  [[[255, 255, 255], [255, 255, 255], [255, 255,...  \n",
       "486  [[[255, 255, 255], [255, 255, 255], [255, 255,...  \n",
       "260  [[[93, 107, 152], [93, 107, 152], [93, 108, 14...  \n",
       "330  [[[197, 197, 197], [204, 204, 204], [198, 198,...  \n",
       "63   [[[32, 32, 32], [32, 32, 32], [36, 36, 36], [3...  \n",
       "201  [[[252, 252, 252], [252, 252, 252], [255, 255,...  \n",
       "104  [[[55, 85, 109], [49, 79, 103], [59, 89, 113],...  \n",
       "102  [[[131, 131, 131], [131, 131, 131], [131, 131,...  \n",
       "6    [[[204, 204, 204], [204, 204, 204], [204, 204,...  \n",
       "155  [[[216, 216, 216], [216, 216, 216], [216, 216,...  "
      ]
     },
     "execution_count": 50,
     "metadata": {},
     "output_type": "execute_result"
    }
   ],
   "source": [
    "data.head(10)"
   ]
  },
  {
   "cell_type": "code",
   "execution_count": 77,
   "metadata": {},
   "outputs": [],
   "source": [
    "# submission_embedding_list"
   ]
  },
  {
   "cell_type": "code",
   "execution_count": 78,
   "metadata": {},
   "outputs": [],
   "source": [
    "# submission_embedding_list[4]"
   ]
  },
  {
   "cell_type": "code",
   "execution_count": 53,
   "metadata": {
    "collapsed": true
   },
   "outputs": [],
   "source": [
    "submission_prediction_list = [classify(image_embedding, embedding_list, id_list) for image_embedding in submission_embedding_list]"
   ]
  },
  {
   "cell_type": "code",
   "execution_count": 54,
   "metadata": {
    "collapsed": true
   },
   "outputs": [],
   "source": [
    "submission = pd.DataFrame({'Image': submission_file_list, 'Id': submission_prediction_list}, columns=['Image','Id'])"
   ]
  },
  {
   "cell_type": "code",
   "execution_count": 79,
   "metadata": {},
   "outputs": [],
   "source": [
    "# submission.head(10)"
   ]
  },
  {
   "cell_type": "markdown",
   "metadata": {},
   "source": [
    "# Save Results"
   ]
  },
  {
   "cell_type": "code",
   "execution_count": 56,
   "metadata": {},
   "outputs": [],
   "source": [
    "results_directory = \"results/\" + now + \"/\"\n",
    "if not os.path.exists(results_directory):\n",
    "    os.makedirs(results_directory)\n",
    "    \n",
    "submission.to_csv(results_directory + \"submission.csv\",index=False)\n"
   ]
  }
 ],
 "metadata": {
  "anaconda-cloud": {},
  "kernelspec": {
   "display_name": "Python 3",
   "language": "python",
   "name": "python3"
  },
  "language_info": {
   "codemirror_mode": {
    "name": "ipython",
    "version": 3
   },
   "file_extension": ".py",
   "mimetype": "text/x-python",
   "name": "python",
   "nbconvert_exporter": "python",
   "pygments_lexer": "ipython3",
   "version": "3.6.2"
  }
 },
 "nbformat": 4,
 "nbformat_minor": 2
}
